{
 "cells": [
  {
   "cell_type": "code",
   "execution_count": 9,
   "metadata": {},
   "outputs": [
    {
     "data": {
      "text/plain": [
       "0             Yes\n",
       "1             Yes\n",
       "3       Uncertain\n",
       "4       Uncertain\n",
       "5             Yes\n",
       "6             Yes\n",
       "7             Yes\n",
       "8             Yes\n",
       "9             Yes\n",
       "10            Yes\n",
       "11      Uncertain\n",
       "12            Yes\n",
       "13      Uncertain\n",
       "14            Yes\n",
       "15            Yes\n",
       "16            Yes\n",
       "17             No\n",
       "18            Yes\n",
       "19            Yes\n",
       "20             No\n",
       "21            Yes\n",
       "22            Yes\n",
       "23            Yes\n",
       "24      Uncertain\n",
       "25             No\n",
       "26             No\n",
       "27             No\n",
       "28            Yes\n",
       "29            Yes\n",
       "30            Yes\n",
       "          ...    \n",
       "1202          Yes\n",
       "1203          Yes\n",
       "1204          Yes\n",
       "1205          Yes\n",
       "1206          Yes\n",
       "1207          Yes\n",
       "1208          Yes\n",
       "1209          Yes\n",
       "1210          Yes\n",
       "1211          Yes\n",
       "1212          Yes\n",
       "1213          Yes\n",
       "1214          Yes\n",
       "1215          Yes\n",
       "1216          Yes\n",
       "1217          Yes\n",
       "1218          Yes\n",
       "1219          Yes\n",
       "1220          Yes\n",
       "1221          Yes\n",
       "1222          Yes\n",
       "1223          Yes\n",
       "1224          Yes\n",
       "1225          Yes\n",
       "1226          Yes\n",
       "1227          Yes\n",
       "1228          Yes\n",
       "1229          Yes\n",
       "1230          Yes\n",
       "1231          Yes\n",
       "Name: Expected Attendance, Length: 984, dtype: object"
      ]
     },
     "execution_count": 9,
     "metadata": {},
     "output_type": "execute_result"
    }
   ],
   "source": [
    "#your code goes here\n",
    "import pandas as pd \n",
    "import matplotlib.pyplot as plt \n",
    "import numpy as np \n",
    "df = pd.read_csv('Interview.csv') \n",
    "df.head(5) \n",
    "df.drop(['Unnamed: 23', 'Unnamed: 24', 'Unnamed: 25','Unnamed: 26','Unnamed: 27'],axis=1,inplace=True) \n",
    "df.dropna(axis=0,inplace=True) \n",
    "Y = df['Observed Attendance'] \n",
    "Y_expected = df['Expected Attendance'] \n",
    "X = df.drop(['Expected Attendance', 'Observed Attendance'],axis=1) \n",
    "rows = X['Can I Call you three hours before the interview and follow up on your attendance for the interview'].isnull() \n",
    "from sklearn.preprocessing import LabelEncoder,OneHotEncoder \n",
    "labelencoder=LabelEncoder() \n",
    "X['Client name'] = labelencoder.fit_transform(X['Client name'])  \n",
    "#df.isnull().sum()\n"
   ]
  },
  {
   "cell_type": "code",
   "execution_count": null,
   "metadata": {},
   "outputs": [],
   "source": []
  }
 ],
 "metadata": {
  "kernelspec": {
   "display_name": "Python 3",
   "language": "python",
   "name": "python3"
  },
  "language_info": {
   "codemirror_mode": {
    "name": "ipython",
    "version": 3
   },
   "file_extension": ".py",
   "mimetype": "text/x-python",
   "name": "python",
   "nbconvert_exporter": "python",
   "pygments_lexer": "ipython3",
   "version": "3.7.3"
  }
 },
 "nbformat": 4,
 "nbformat_minor": 2
}
