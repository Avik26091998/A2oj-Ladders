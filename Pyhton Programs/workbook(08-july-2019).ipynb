{
 "cells": [
  {
   "cell_type": "code",
   "execution_count": 3,
   "metadata": {
    "scrolled": true
   },
   "outputs": [
    {
     "name": "stdout",
     "output_type": "stream",
     "text": [
      "    empno   ename        job     mgr    hiredate   sal    comm  deptno\n",
      "0    7369   SMITH      CLERK  7902.0  13-06-1993   800     0.0      20\n",
      "1    7499   ALLEN   SALESMAN  7698.0  15-08-1998  1600   300.0      30\n",
      "2    7521    WARD   SALESMAN  7698.0  26-03-1996  1250   500.0      30\n",
      "3    7566   JONES    MANAGER  7839.0  31-10-1995  2975     NaN      20\n",
      "4    7698   BLAKE    MANAGER  7839.0  11-06-1992  2850     NaN      30\n",
      "5    7782   CLARK    MANAGER  7839.0  14-05-1993  2450     NaN      10\n",
      "6    7788   SCOTT    ANALYST  7566.0  05-03-1996  3000     NaN      20\n",
      "7    7839    KING  PRESIDENT     NaN  09-06-1990  5000     0.0      10\n",
      "8    7844  TURNER   SALESMAN  7698.0  04-06-1995  1500     0.0      30\n",
      "9    7876   ADAMS      CLERK  7788.0  04-06-1999  1100     NaN      20\n",
      "10   7900   JAMES      CLERK  7698.0  23-06-2000   950     NaN      30\n",
      "11   7934  MILLER      CLERK  7782.0  21-01-2000  1300     NaN      10\n",
      "12   7902    FORD    ANALYST  7566.0  05-12-1997  3000     NaN      20\n",
      "13   7654  MARTIN   SALESMAN  7698.0  05-12-1998  1250  1400.0      30 \n",
      "\n",
      "\n",
      "The dept number is :  10\n",
      "\n",
      "The group is : \n",
      "     empno   ename        job     mgr    hiredate   sal  comm  deptno\n",
      "5    7782   CLARK    MANAGER  7839.0  14-05-1993  2450   NaN      10\n",
      "7    7839    KING  PRESIDENT     NaN  09-06-1990  5000   0.0      10\n",
      "11   7934  MILLER      CLERK  7782.0  21-01-2000  1300   NaN      10\n",
      "\n",
      "The name is : \n",
      " 5      CLARK\n",
      "7       KING\n",
      "11    MILLER\n",
      "Name: ename, dtype: object\n",
      "The dept number is :  20\n",
      "\n",
      "The group is : \n",
      "     empno  ename      job     mgr    hiredate   sal  comm  deptno\n",
      "0    7369  SMITH    CLERK  7902.0  13-06-1993   800   0.0      20\n",
      "3    7566  JONES  MANAGER  7839.0  31-10-1995  2975   NaN      20\n",
      "6    7788  SCOTT  ANALYST  7566.0  05-03-1996  3000   NaN      20\n",
      "9    7876  ADAMS    CLERK  7788.0  04-06-1999  1100   NaN      20\n",
      "12   7902   FORD  ANALYST  7566.0  05-12-1997  3000   NaN      20\n",
      "\n",
      "The name is : \n",
      " 0     SMITH\n",
      "3     JONES\n",
      "6     SCOTT\n",
      "9     ADAMS\n",
      "12     FORD\n",
      "Name: ename, dtype: object\n",
      "The dept number is :  30\n",
      "\n",
      "The group is : \n",
      "     empno   ename       job     mgr    hiredate   sal    comm  deptno\n",
      "1    7499   ALLEN  SALESMAN  7698.0  15-08-1998  1600   300.0      30\n",
      "2    7521    WARD  SALESMAN  7698.0  26-03-1996  1250   500.0      30\n",
      "4    7698   BLAKE   MANAGER  7839.0  11-06-1992  2850     NaN      30\n",
      "8    7844  TURNER  SALESMAN  7698.0  04-06-1995  1500     0.0      30\n",
      "10   7900   JAMES     CLERK  7698.0  23-06-2000   950     NaN      30\n",
      "13   7654  MARTIN  SALESMAN  7698.0  05-12-1998  1250  1400.0      30\n",
      "\n",
      "The name is : \n",
      " 1      ALLEN\n",
      "2       WARD\n",
      "4      BLAKE\n",
      "8     TURNER\n",
      "10     JAMES\n",
      "13    MARTIN\n",
      "Name: ename, dtype: object\n",
      "\n",
      "The count is : deptno\n",
      "10    3\n",
      "20    5\n",
      "30    6\n",
      "Name: deptno, dtype: int64\n",
      "\n",
      "The sum is : deptno\n",
      "10     8750\n",
      "20    10875\n",
      "30     9400\n",
      "Name: sal, dtype: int64\n"
     ]
    }
   ],
   "source": [
    "import numpy as np\n",
    "import pandas as pd\n",
    "empdf=pd.read_csv(\"Employee.csv\")\n",
    "print(empdf,\"\\n\\n\")\n",
    "grpemp=empdf.groupby([\"deptno\"])\n",
    "for d,group in grpemp:\n",
    "    print(\"The dept number is : \",d)\n",
    "    print(\"\\nThe group is : \\n\",group)\n",
    "    print(\"\\nThe name is : \\n\",group[\"ename\"])\n",
    "    \n",
    "cnt=empdf.groupby([\"deptno\"])\n",
    "print(\"\\nThe count is :\",cnt[\"deptno\"].agg(np.count_nonzero))\n",
    "print(\"\\nThe sum is :\",cnt[\"sal\"].agg(np.sum))"
   ]
  },
  {
   "cell_type": "code",
   "execution_count": 4,
   "metadata": {},
   "outputs": [
    {
     "name": "stdout",
     "output_type": "stream",
     "text": [
      "        one       two     three\n",
      "a -0.891165 -1.630297  1.601369\n",
      "c  2.170983  0.009956 -1.717731\n",
      "e -1.733919 -0.973593  0.145429\n",
      "h  1.431918 -0.905641  0.018778\n",
      "        one       two     three\n",
      "a -0.891165 -1.630297  1.601369\n",
      "b       NaN       NaN       NaN\n",
      "c  2.170983  0.009956 -1.717731\n",
      "d       NaN       NaN       NaN\n",
      "e -1.733919 -0.973593  0.145429\n",
      "f       NaN       NaN       NaN\n",
      "g       NaN       NaN       NaN\n",
      "h  1.431918 -0.905641  0.018778\n",
      "\n",
      "count of null values : 4\n",
      "        one       two     three\n",
      "a -0.891165 -1.630297  1.601369\n",
      "b       NaN       NaN       NaN\n",
      "c  2.170983  0.009956 -1.717731\n",
      "d       NaN       NaN       NaN\n",
      "e -1.733919 -0.973593  0.145429\n",
      "f       NaN       NaN       NaN\n",
      "g       NaN       NaN       NaN\n",
      "h  1.431918 -0.905641  0.018778\n",
      "a   -0.891165\n",
      "b    0.244454\n",
      "c    2.170983\n",
      "d    0.244454\n",
      "e   -1.733919\n",
      "f    0.244454\n",
      "g    0.244454\n",
      "h    1.431918\n",
      "Name: one, dtype: float64\n",
      "        one       two     three\n",
      "a -0.891165 -1.630297  1.601369\n",
      "b -0.891165 -1.630297  1.601369\n",
      "c  2.170983  0.009956 -1.717731\n",
      "d  2.170983  0.009956 -1.717731\n",
      "e -1.733919 -0.973593  0.145429\n",
      "f -1.733919 -0.973593  0.145429\n",
      "g -1.733919 -0.973593  0.145429\n",
      "h  1.431918 -0.905641  0.018778\n",
      "        one       two     three\n",
      "a -0.891165 -1.630297  1.601369\n",
      "b  2.170983  0.009956 -1.717731\n",
      "c  2.170983  0.009956 -1.717731\n",
      "d -1.733919 -0.973593  0.145429\n",
      "e -1.733919 -0.973593  0.145429\n",
      "f  1.431918 -0.905641  0.018778\n",
      "g  1.431918 -0.905641  0.018778\n",
      "h  1.431918 -0.905641  0.018778\n"
     ]
    }
   ],
   "source": [
    "df=pd.DataFrame(np.random.randn(4,3),index=['a','c','e','h'],columns=['one','two','three'])\n",
    "print(df)\n",
    "df=df.reindex(['a','b','c','d','e','f','g','h'])\n",
    "print(df)\n",
    "print(\"\\ncount of null values :\",df['one'].isnull().sum())\n",
    "#prnit(df[\"one\"].sum())\n",
    "print(df)\n",
    "#cleaning data\n",
    "print(df['one'].fillna(np.mean(df['one'])))\n",
    "print(df.fillna(method=\"ffill\"))\n",
    "print(df.fillna(method=\"bfill\"))"
   ]
  },
  {
   "cell_type": "code",
   "execution_count": 2,
   "metadata": {},
   "outputs": [],
   "source": [
    "import seaborn as sms"
   ]
  },
  {
   "cell_type": "code",
   "execution_count": 5,
   "metadata": {},
   "outputs": [],
   "source": [
    "import numpy as np\n",
    "import matplotlib.pyplot as plt\n",
    "%matplotlib inline"
   ]
  },
  {
   "cell_type": "code",
   "execution_count": 12,
   "metadata": {},
   "outputs": [
    {
     "data": {
      "image/png": "[encoded data removed]",
      "text/plain": [
       "<Figure size 432x288 with 1 Axes>"
      ]
     },
     "metadata": {
      "needs_background": "light"
     },
     "output_type": "display_data"
    }
   ],
   "source": [
    "#Bar Graph\n",
    "company = ['IBM','CTS','TCS','INFOSYS']\n",
    "revenue = [10,89,40,56]\n",
    "profit = [5,20,12,10]\n",
    "xpos = np.arange(len(company))\n",
    "plt.xticks(xpos,company)\n",
    "plt.ylabel('Revenue')\n",
    "plt.title('Company Revenue')\n",
    "#lt.bar(xpos,revenue,label='Revenue')\n",
    "#lt.bar(xpos,revenue,label='Profit')\n",
    "plt.bar(xpos-0.2,revenue,width=0.2,label='Revenue')\n",
    "plt.bar(xpos,profit,width=0.2,label='Profit')\n",
    "plt.legend()\n",
    "plt.show()\n",
    "\n"
   ]
  },
  {
   "cell_type": "code",
   "execution_count": 7,
   "metadata": {},
   "outputs": [
    {
     "data": {
      "image/png": "[encoded data removed]",
      "text/plain": [
       "<Figure size 432x288 with 1 Axes>"
      ]
     },
     "metadata": {},
     "output_type": "display_data"
    }
   ],
   "source": [
    "import numpy as np\n",
    "import matplotlib.pyplot as plt\n",
    "%matplotlib inline\n",
    "\n",
    "expval = [5000,500,2000,2500,800]\n",
    "exphead = ['House Rent','Mobile Bill','Food','Trip', 'Car']\n",
    "plt.pie(expval,labels=exphead,radius=2,autopct='%0.2f%%', shadow=True,explode=[0,0,0,0,0.3])\n",
    "plt.show()"
   ]
  },
  {
   "cell_type": "code",
   "execution_count": 8,
   "metadata": {},
   "outputs": [
    {
     "data": {
      "image/png": "[encoded data removed]",
      "text/plain": [
       "<Figure size 432x288 with 1 Axes>"
      ]
     },
     "metadata": {
      "needs_background": "light"
     },
     "output_type": "display_data"
    }
   ],
   "source": [
    "population_age = [22,55,62,45,21,22,34,42,42,4,2,102,95,85,55,110,120,70,65,55,111,115,80,75,65,44,43,42,48]\n",
    "plt.hist(population_age, bins=10,rwidth=0.5)\n",
    "plt.xlabel('age group')\n",
    "plt.ylabel('Number of people')\n",
    "plt.title('Histogram')\n",
    "plt.show()"
   ]
  },
  {
   "cell_type": "code",
   "execution_count": 11,
   "metadata": {},
   "outputs": [
    {
     "data": {
      "image/png": "[encoded data removed]",
      "text/plain": [
       "<Figure size 432x288 with 1 Axes>"
      ]
     },
     "metadata": {
      "needs_background": "light"
     },
     "output_type": "display_data"
    }
   ],
   "source": [
    "data = [1, 8,25, 26, 28, 30, 32, 33, 37, 56, 100]\n",
    "plt.boxplot(data)\n",
    "plt.show()"
   ]
  },
  {
   "cell_type": "code",
   "execution_count": null,
   "metadata": {},
   "outputs": [],
   "source": []
  }
 ],
 "metadata": {
  "kernelspec": {
   "display_name": "Python 3",
   "language": "python",
   "name": "python3"
  },
  "language_info": {
   "codemirror_mode": {
    "name": "ipython",
    "version": 3
   },
   "file_extension": ".py",
   "mimetype": "text/x-python",
   "name": "python",
   "nbconvert_exporter": "python",
   "pygments_lexer": "ipython3",
   "version": "3.7.3"
  }
 },
 "nbformat": 4,
 "nbformat_minor": 2
}
