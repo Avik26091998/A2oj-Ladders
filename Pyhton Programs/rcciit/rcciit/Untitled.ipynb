{
 "cells": [
  {
   "cell_type": "code",
   "execution_count": 1,
   "metadata": {},
   "outputs": [
    {
     "name": "stdout",
     "output_type": "stream",
     "text": [
      "['Sun', 'Mon', 'Tue', 'Wed', 'Thr', 'Fri', 'Sat']\n"
     ]
    }
   ],
   "source": [
    "list1=[\"Sunday\",\"Monday\",\"Tuesday\",\"Wednesday\",\"Thrusday\",\"Friday\",\"Saturday\"]\n",
    "list2=[x[:3] for x in list1]\n",
    "print(list2)"
   ]
  },
  {
   "cell_type": "code",
   "execution_count": 3,
   "metadata": {},
   "outputs": [
    {
     "name": "stdout",
     "output_type": "stream",
     "text": [
      "Sachin\n",
      "Sachin\n",
      "Sourav\n",
      "Dhoni\n"
     ]
    }
   ],
   "source": [
    "#Creating tuples\n",
    "tuple1=(\"Sachin\",\"Sourav\",\"Dhoni\")\n",
    "print(tuple1[0])\n",
    "for x in tuple1:\n",
    "    print(x)"
   ]
  },
  {
   "cell_type": "code",
   "execution_count": 5,
   "metadata": {},
   "outputs": [
    {
     "name": "stdout",
     "output_type": "stream",
     "text": [
      "tup1[0]:  physics\n",
      "tup2[1:5]:  (2, 3, 4, 5)\n"
     ]
    }
   ],
   "source": [
    "tup1=('physics','chemistry',1997,2000)\n",
    "tup2=(1,2,3,4,5,6,7)\n",
    "print(\"tup1[0]: \",tup1[0])\n",
    "print(\"tup2[1:5]: \",tup2[1:5])"
   ]
  },
  {
   "cell_type": "code",
   "execution_count": 6,
   "metadata": {},
   "outputs": [
    {
     "name": "stdout",
     "output_type": "stream",
     "text": [
      "[1 2 3]\n",
      "<class 'numpy.ndarray'>\n",
      "int32\n",
      "1\n"
     ]
    }
   ],
   "source": [
    "import numpy as np\n",
    "#1D array\n",
    "arr1=np.array([1,2,3])\n",
    "print(arr1)\n",
    "print(type(arr1))\n",
    "print(arr1.dtype)\n",
    "print(arr1[0])"
   ]
  },
  {
   "cell_type": "code",
   "execution_count": 8,
   "metadata": {},
   "outputs": [
    {
     "name": "stdout",
     "output_type": "stream",
     "text": [
      "[[1 2 3]\n",
      " [4 5 6]]\n",
      "2\n",
      "2\n"
     ]
    }
   ],
   "source": [
    "#nD array\n",
    "arr2=np.array([[1,2,3],[4,5,6]])\n",
    "print(arr2)\n",
    "print(arr2[0,1])\n",
    "print(arr2.ndim)"
   ]
  },
  {
   "cell_type": "code",
   "execution_count": 9,
   "metadata": {},
   "outputs": [
    {
     "name": "stdout",
     "output_type": "stream",
     "text": [
      "[9 2]\n",
      "1\n",
      "[[9]\n",
      " [2]]\n",
      "2\n"
     ]
    }
   ],
   "source": [
    "arr2=np.array([(9),(2)])\n",
    "print(arr2)\n",
    "print(arr2.ndim)\n",
    "#print(arr2[0,2])\n",
    "arr2=np.array([(9,),(2,)])\n",
    "print(arr2)\n",
    "print(arr2.ndim)"
   ]
  },
  {
   "cell_type": "code",
   "execution_count": 10,
   "metadata": {},
   "outputs": [
    {
     "name": "stdout",
     "output_type": "stream",
     "text": [
      "[9. 2.]\n",
      "float64\n"
     ]
    }
   ],
   "source": [
    "import numpy as np\n",
    "#Data types\n",
    "arr3=np.array([9,2],dtype=float)\n",
    "print(arr3)\n",
    "print(arr3.dtype)"
   ]
  },
  {
   "cell_type": "code",
   "execution_count": 11,
   "metadata": {},
   "outputs": [
    {
     "name": "stdout",
     "output_type": "stream",
     "text": [
      "array shape is: (3, 2)\n",
      "array is: [[10 20]\n",
      " [30 40]\n",
      " [30 40]]\n"
     ]
    }
   ],
   "source": [
    "#shape-returns tupke consisting of array dimensions\n",
    "arr1=np.array([[10,20],[30,40],[30,40]])\n",
    "print(\"array shape is:\",arr1.shape)\n",
    "print(\"array is:\",arr1)"
   ]
  },
  {
   "cell_type": "code",
   "execution_count": 12,
   "metadata": {},
   "outputs": [
    {
     "name": "stdout",
     "output_type": "stream",
     "text": [
      "Array shape is : (2, 3)\n",
      "Array shape is : (3, 2)\n",
      "Array is : [[10 20]\n",
      " [40 50]\n",
      " [30 40]]\n"
     ]
    }
   ],
   "source": [
    "#resizes the shape\n",
    "arr1=np.array([[10,20,40],[50,30,40]])\n",
    "print(\"Array shape is :\",arr1.shape)\n",
    "arr1.shape=(3,2)\n",
    "print(\"Array shape is :\",arr1.shape)\n",
    "print(\"Array is :\",arr1)"
   ]
  },
  {
   "cell_type": "code",
   "execution_count": 13,
   "metadata": {},
   "outputs": [
    {
     "name": "stdout",
     "output_type": "stream",
     "text": [
      "Array shape is: (2, 4)\n",
      "Array is: [[10 20]\n",
      " [30 40]\n",
      " [50 30]\n",
      " [40 80]]\n"
     ]
    }
   ],
   "source": [
    "#resizes the shape\n",
    "arr2=np.array([[10,20,30,40],[50,30,40,80]])\n",
    "b=arr2.reshape(4,2)\n",
    "print(\"Array shape is:\",arr2.shape)\n",
    "print(\"Array is:\",b)"
   ]
  },
  {
   "cell_type": "code",
   "execution_count": 16,
   "metadata": {},
   "outputs": [
    {
     "name": "stdout",
     "output_type": "stream",
     "text": [
      "Filled with random values: [[1 1]\n",
      " [1 1]\n",
      " [1 1]]\n",
      "Filled with 0 floats: [[0. 0.]\n",
      " [0. 0.]\n",
      " [0. 0.]]\n",
      "Filled with 0 ints: [[0 0]\n",
      " [0 0]\n",
      " [0 0]]\n",
      "Filled with 1 ints: [[1 1]\n",
      " [1 1]\n",
      " [1 1]]\n"
     ]
    }
   ],
   "source": [
    "arr2=np.empty([3,2],dtype=int)\n",
    "print(\"Filled with random values:\",arr2)#filled with random values\n",
    "\n",
    "arr3=np.zeros([3,2])\n",
    "print(\"Filled with 0 floats:\",arr3)#default datatype is float\n",
    "\n",
    "arr4=np.zeros([3,2],dtype=int)\n",
    "print(\"Filled with 0 ints:\",arr4)\n",
    "\n",
    "arr5=np.ones([3,2],dtype=int)\n",
    "print(\"Filled with 1 ints:\",arr5)"
   ]
  },
  {
   "cell_type": "code",
   "execution_count": 17,
   "metadata": {},
   "outputs": [
    {
     "name": "stdout",
     "output_type": "stream",
     "text": [
      "Dimension of array: 2\n",
      "Array from List of tuples: [[1 2 3]\n",
      " [4 5 6]]\n"
     ]
    }
   ],
   "source": [
    "#Create an ndarray from a list\n",
    "list1=[(1,2,3),(4,5,6)]\n",
    "arr4=np.array(list1)\n",
    "print(\"Dimension of array:\",arr4.ndim)\n",
    "print(\"Array from List of tuples:\",arr4)"
   ]
  },
  {
   "cell_type": "markdown",
   "metadata": {},
   "source": [
    "import numpy as "
   ]
  },
  {
   "cell_type": "code",
   "execution_count": 6,
   "metadata": {},
   "outputs": [
    {
     "name": "stdout",
     "output_type": "stream",
     "text": [
      "[0 1 2 3 4 5 6 7 8 9]\n",
      "[0. 1. 2. 3. 4. 5. 6. 7. 8. 9.]\n",
      "[2 4 6 8]\n",
      "Upper bound included:  [ 2.          4.66666667  7.33333333 10.        ]\n",
      "upper not included [2 4 7]\n"
     ]
    }
   ],
   "source": [
    "import numpy as np\n",
    "arr1=np.arange(10)#upper bound not included\n",
    "print(arr1)\n",
    "arr2=np.arange(10,dtype=float)\n",
    "print(arr2)\n",
    "\n",
    "arr3=np.arange(2,10,2)\n",
    "print(arr3)#start,stop,step\n",
    "\n",
    "#linespace--instead of step, the no. of inteval is specified.\n",
    "arr4=np.linspace(2,10,4)#endpoint is to included the upper bound or not\n",
    "print(\"Upper bound included: \",arr4)\n",
    "\n",
    "arr4=np.linspace(2,10,3,endpoint=False,dtype=int)\n",
    "print(\"upper bound not included\",arr4)"
   ]
  },
  {
   "cell_type": "code",
   "execution_count": 19,
   "metadata": {},
   "outputs": [
    {
     "name": "stdout",
     "output_type": "stream",
     "text": [
      "2.After slicing: [2 3 4 5 6 7 8]\n",
      "3.After slicing: [2 3 4 5 6 7 8 9]\n",
      "[[2 3]\n",
      " [5 6]\n",
      " [8 9]]\n"
     ]
    }
   ],
   "source": [
    "\n",
    "arr1=np.arange(10)\n",
    "\n",
    "print(\"2.After slicing:\",arr1[2:9:1])\n",
    "print(\"3.After slicing:\",arr1[2:])\n",
    "\n",
    "#slicing for nd array\n",
    "arr2=np.array([[1,2,3],[4,5,6],[7,8,9]])\n",
    "print(arr2[:,1:])\n"
   ]
  },
  {
   "cell_type": "code",
   "execution_count": 12,
   "metadata": {},
   "outputs": [
    {
     "name": "stdout",
     "output_type": "stream",
     "text": [
      "[2 5 8]\n",
      "[ 7  8  9 11]\n",
      "[[ 2  3  4]\n",
      " [ 5  6 10]\n",
      " [ 8  9 11]]\n"
     ]
    }
   ],
   "source": [
    "#using ellipsis- means will consider all the list\n",
    "arr4=np.array([[1,2,3,4],[4,5,6,10],[7,8,9,11]])\n",
    "print(arr4[...,1])\n",
    "print(arr4[2,...])\n",
    "print(arr4[...,1:])"
   ]
  },
  {
   "cell_type": "code",
   "execution_count": 14,
   "metadata": {},
   "outputs": [
    {
     "name": "stdout",
     "output_type": "stream",
     "text": [
      "8.After Slicing: [2 4 9]\n"
     ]
    }
   ],
   "source": [
    "arr5=np.array([[1,2,3],[4,5,6],[7,8,9]])\n",
    "y=arr5[[0,1,2],[1,0,2]] #(0,1),(1,0),(2,2)\n",
    "print(\"8.After Slicing:\",y)"
   ]
  },
  {
   "cell_type": "code",
   "execution_count": 15,
   "metadata": {},
   "outputs": [
    {
     "name": "stdout",
     "output_type": "stream",
     "text": [
      "Multiplication on arrays of same shape: [[400 600 600]\n",
      " [ 14  18  20]]\n",
      "Array after addition [[ 2  3  4]\n",
      " [21 32 43]\n",
      " [51 62 73]]\n"
     ]
    }
   ],
   "source": [
    "#Broadcasting when operations of multiple arrays with shape\n",
    "arr7=np.array([[10,20,30],[2,3,4]])\n",
    "arr8=np.array([[40,30,20],[7,6,5]])\n",
    "print(\"Multiplication on arrays of same shape:\",arr7*arr8)\n",
    "\n",
    "#Smaller array are broadcasted to larger array\n",
    "\n",
    "arr8=np.array([[1,1,1],[20,30,40],[50,60,70]])\n",
    "arr9=np.array([1,2,3])\n",
    "print(\"Array after addition\",arr8+arr9)"
   ]
  },
  {
   "cell_type": "code",
   "execution_count": 16,
   "metadata": {},
   "outputs": [
    {
     "name": "stdout",
     "output_type": "stream",
     "text": [
      "4. Transposed array: [0 1 2 3 4 5 6 7 8 9]\n"
     ]
    }
   ],
   "source": [
    "#transposing array and then iterating\n",
    "tempdeftransposed=arr1.T\n",
    "print(\"4. Transposed array:\",tempdeftransposed)"
   ]
  },
  {
   "cell_type": "code",
   "execution_count": 20,
   "metadata": {},
   "outputs": [
    {
     "name": "stdout",
     "output_type": "stream",
     "text": [
      "Concatenate along 0 axis: [[2 3]\n",
      " [4 5]\n",
      " [6 7]\n",
      " [8 9]]\n",
      "Concatenate along 1 axis: [[2 3 6 7]\n",
      " [4 5 8 9]]\n"
     ]
    }
   ],
   "source": [
    "#Concatenate\n",
    "arr1=np.array([[2,3],[4,5]])\n",
    "arr2=np.array([[6,7],[8,9]])\n",
    "resarr=np.concatenate((arr1,arr2))#default axis=0\n",
    "print(\"Concatenate along 0 axis:\",resarr)\n",
    "resarr=np.concatenate((arr1,arr2),axis=1)\n",
    "print(\"Concatenate along 1 axis:\",resarr)"
   ]
  },
  {
   "cell_type": "code",
   "execution_count": 23,
   "metadata": {},
   "outputs": [
    {
     "name": "stdout",
     "output_type": "stream",
     "text": [
      "Whole array: [0 1 2 3 4 5 6 7 8]\n",
      "After splitting in 3 equal sized axis: [array([0, 1, 2]), array([3, 4, 5]), array([6, 7, 8])]\n"
     ]
    }
   ],
   "source": [
    "#Split\n",
    "arr3=np.arange(9)\n",
    "print(\"Whole array:\",arr3)\n",
    "arr4=np.split(arr3,3)\n",
    "print(\"After splitting in 3 equal sized axis:\",arr4)"
   ]
  },
  {
   "cell_type": "code",
   "execution_count": 24,
   "metadata": {},
   "outputs": [
    {
     "name": "stdout",
     "output_type": "stream",
     "text": [
      "Before appending: [[0 1 2]\n",
      " [3 4 5]\n",
      " [6 7 8]]\n",
      "After appending: [ 0  1  2  3  4  5  6  7  8 10 11 12]\n",
      "Appended at axis 1: [[ 0  1  2 10 11 12]\n",
      " [ 3  4  5 13 14 15]\n",
      " [ 6  7  8 16 17 18]]\n",
      "Appended at 0 axis: [[ 0  1  2]\n",
      " [ 3  4  5]\n",
      " [ 6  7  8]\n",
      " [10 11 12]]\n"
     ]
    }
   ],
   "source": [
    "#Append elements\n",
    "arr4=np.arange(9)\n",
    "arr4=arr4.reshape(3,3)\n",
    "print(\"Before appending:\",arr4)\n",
    "arr5=np.append(arr4,[10,11,12])\n",
    "print(\"After appending:\",arr5)\n",
    "arr6=np.append(arr4,[[10,11,12],[13,14,15],[16,17,18]],axis=1)\n",
    "print(\"Appended at axis 1:\",arr6)\n",
    "arr6=np.append(arr4,[[10,11,12]],axis=0)\n",
    "print(\"Appended at 0 axis:\",arr6)"
   ]
  },
  {
   "cell_type": "code",
   "execution_count": 26,
   "metadata": {},
   "outputs": [
    {
     "name": "stdout",
     "output_type": "stream",
     "text": [
      "Arr4 [[0 1 2]\n",
      " [3 4 5]\n",
      " [6 7 8]]\n",
      "Axis parameter not passed hence flattend: [  0   1   2 199   3   4   5   6   7   8]\n",
      "Inserted at 3rd index in 0 axis: [[ 0  1  2]\n",
      " [ 3  4  5]\n",
      " [ 6  7  8]\n",
      " [11 11 11]]\n",
      "Inserted at 3rd index in 1 axis: [[  0   1   2 290]\n",
      " [  3   4   5 290]\n",
      " [  6   7   8 290]]\n"
     ]
    }
   ],
   "source": [
    "#insert at specific location\n",
    "arr4=np.arange(9)\n",
    "arr4=arr4.reshape(3,3)\n",
    "print(\"Arr4\",arr4)\n",
    "arr7=np.insert(arr4,3,199)\n",
    "print(\"Axis parameter not passed hence flattend:\",arr7)\n",
    "arr8=np.insert(arr4,3,[11],axis=0)\n",
    "print(\"Inserted at 3rd index in 0 axis:\",arr8)\n",
    "arr9=np.insert(arr4,3,[290],axis=1)\n",
    "print(\"Inserted at 3rd index in 1 axis:\",arr9)"
   ]
  },
  {
   "cell_type": "code",
   "execution_count": 4,
   "metadata": {},
   "outputs": [
    {
     "name": "stdout",
     "output_type": "stream",
     "text": [
      "Array flattend before deleting as axis parameter not passed: [0 1 2 4 5 6 7 8]\n",
      "Element deleted along 0 axis: [[0 1 2]\n",
      " [3 4 5]]\n",
      "[[0 1 2]\n",
      " [3 4 5]\n",
      " [6 7 8]]\n",
      "Element deleted along 1 axis: [[0 1]\n",
      " [3 4]\n",
      " [6 7]]\n",
      "[[0 1 2]\n",
      " [3 4 5]\n",
      " [6 7 8]]\n"
     ]
    }
   ],
   "source": [
    "#Remove\n",
    "import numpy as np\n",
    "arr4=np.arange(9)\n",
    "arr4=arr4.reshape(3,3)\n",
    "arr10=np.delete(arr4,3)\n",
    "print(\"Array flattend before deleting as axis parameter not passed:\",arr10)\n",
    "arr11=np.delete(arr4,2,axis=0)\n",
    "print(\"Element deleted along 0 axis:\",arr11)\n",
    "print(arr4)\n",
    "arr11=np.delete(arr4,2,axis=1)\n",
    "print(\"Element deleted along 1 axis:\",arr11)\n",
    "print(arr4)"
   ]
  },
  {
   "cell_type": "code",
   "execution_count": 5,
   "metadata": {},
   "outputs": [],
   "source": [
    "#methods::np.add(arr,arr),np.subtract(arr,arr),np.multiply(arr,arr),np.divide(arr,arr),np.power(x,y),np.median(arr3.axis=0)"
   ]
  },
  {
   "cell_type": "code",
   "execution_count": 22,
   "metadata": {},
   "outputs": [
    {
     "name": "stdout",
     "output_type": "stream",
     "text": [
      "[2 5 8]\n",
      "[12 14 17]\n",
      "[15 20 21]\n"
     ]
    }
   ],
   "source": [
    "#sorting according to \n",
    "arr1=np.array([[12,14,17],[2,5,8],[15,20,21]])\n",
    "arr2=np.mean(arr1,axis=1)\n",
    "arr2=np.sort(arr2)\n",
    "for i in arr2:\n",
    "    for j in arr1:\n",
    "        if np.mean(j)==i:\n",
    "            print(j)"
   ]
  },
  {
   "cell_type": "code",
   "execution_count": 23,
   "metadata": {},
   "outputs": [
    {
     "name": "stdout",
     "output_type": "stream",
     "text": [
      "the series is :\n",
      " 0    1\n",
      "1    2\n",
      "2    3\n",
      "dtype: int64\n",
      "0    1\n",
      "1    2\n",
      "2    3\n",
      "dtype: int32\n"
     ]
    }
   ],
   "source": [
    "import numpy as np\n",
    "import pandas as pd\n",
    "#Series is a single dimensional labelled array, can hold any type\n",
    "ser1=pd.Series([1,2,3])\n",
    "print(\"the series is :\\n\",ser1)\n",
    "arr1=np.array([1,2,3])\n",
    "ser2=pd.Series(arr1)\n",
    "print(ser2)"
   ]
  },
  {
   "cell_type": "code",
   "execution_count": 24,
   "metadata": {},
   "outputs": [
    {
     "name": "stdout",
     "output_type": "stream",
     "text": [
      "the series from ndarray is :\n",
      " a    1\n",
      "b    2\n",
      "c    3\n",
      "dtype: int32\n"
     ]
    }
   ],
   "source": [
    "arr2=np.array([1,2,3])\n",
    "ser3=pd.Series(arr2, index=['a','b','c'])\n",
    "print(\"the series from ndarray is :\\n\",ser3)"
   ]
  },
  {
   "cell_type": "code",
   "execution_count": 25,
   "metadata": {},
   "outputs": [
    {
     "name": "stdout",
     "output_type": "stream",
     "text": [
      "series from dictionary in the same order : a    10\n",
      "b    20\n",
      "c    30\n",
      "dtype: int64\n"
     ]
    }
   ],
   "source": [
    "dict1={'a':10,'b':20,'c':30}\n",
    "ser3=pd.Series(dict1)\n",
    "print(\"series from dictionary in the same order :\",ser3)"
   ]
  },
  {
   "cell_type": "code",
   "execution_count": 26,
   "metadata": {},
   "outputs": [
    {
     "name": "stdout",
     "output_type": "stream",
     "text": [
      "b    20\n",
      "a    10\n",
      "c    30\n",
      "dtype: int64\n"
     ]
    }
   ],
   "source": [
    "dict1={'a':10,'b':20,'c':30}\n",
    "ser4=pd.Series(dict1,index=['b','a','c'])\n",
    "print(ser4)"
   ]
  },
  {
   "cell_type": "code",
   "execution_count": 27,
   "metadata": {},
   "outputs": [
    {
     "name": "stdout",
     "output_type": "stream",
     "text": [
      "the 2nd element is th series is : 1\n",
      "last 3 element of the series : b    1\n",
      "c    2\n",
      "d    3\n",
      "dtype: int32\n",
      "b    1\n",
      "c    2\n",
      "d    3\n",
      "dtype: int32\n"
     ]
    }
   ],
   "source": [
    "arr3=np.arange(0,4)\n",
    "ser7=pd.Series(arr3,index=['a','b','c','d'])\n",
    "print(\"the 2nd element is th series is :\",ser7[1])\n",
    "print(\"last 3 element of the series :\",ser7[-3:])\n",
    "print(ser7[-3:])"
   ]
  },
  {
   "cell_type": "code",
   "execution_count": 28,
   "metadata": {},
   "outputs": [
    {
     "name": "stdout",
     "output_type": "stream",
     "text": [
      "empty df : Empty DataFrame\n",
      "Columns: []\n",
      "Index: []\n"
     ]
    }
   ],
   "source": [
    "df1=pd.DataFrame()\n",
    "print(\"empty df :\",df1)"
   ]
  },
  {
   "cell_type": "code",
   "execution_count": 29,
   "metadata": {},
   "outputs": [
    {
     "name": "stdout",
     "output_type": "stream",
     "text": [
      "   0\n",
      "0  1\n",
      "1  2\n",
      "2  3\n",
      "3  4\n"
     ]
    }
   ],
   "source": [
    "list1=[1,2,3,4]\n",
    "df2=pd.DataFrame(list1)\n",
    "print(df2)"
   ]
  },
  {
   "cell_type": "code",
   "execution_count": 30,
   "metadata": {},
   "outputs": [
    {
     "name": "stdout",
     "output_type": "stream",
     "text": [
      "   0  1  2\n",
      "0  1  2  3\n",
      "1  4  5  6\n",
      "2  7  8  9\n"
     ]
    }
   ],
   "source": [
    "list2=[[1,2,3],[4,5,6],[7,8,9]]\n",
    "df3=pd.DataFrame(list2)\n",
    "print(df3)"
   ]
  },
  {
   "cell_type": "code",
   "execution_count": 37,
   "metadata": {},
   "outputs": [
    {
     "data": {
      "text/plain": [
       "count        3.000000\n",
       "mean     11666.666667\n",
       "std       7637.626158\n",
       "min       5000.000000\n",
       "25%       7500.000000\n",
       "50%      10000.000000\n",
       "75%      15000.000000\n",
       "max      20000.000000\n",
       "Name: runs, dtype: float64"
      ]
     },
     "execution_count": 37,
     "metadata": {},
     "output_type": "execute_result"
    }
   ],
   "source": [
    "#Create df from list of lists with defined column names  \n",
    "list3=[['sachin',10000],['msd',20000],['virat',5000]]\n",
    "df4=pd.DataFrame(list3,columns=['cricketer','runs'])\n",
    "#print(\"df from list of lists:\\n,df4\")\n",
    "#df4[\"cricketer\"].describe()\n",
    "#print(df4.dtypes)\n",
    "#df.info()\n",
    "df4[\"runs\"].describe()\n",
    "#df4[\"Cricketer\"].describe()"
   ]
  },
  {
   "cell_type": "code",
   "execution_count": 32,
   "metadata": {},
   "outputs": [
    {
     "name": "stdout",
     "output_type": "stream",
     "text": [
      "     name   runs\n",
      "0  sachin  10000\n",
      "1  sourav  20000\n",
      "2  sachin  40000\n"
     ]
    }
   ],
   "source": [
    "dict1={\"name\":['sachin','sourav','sachin'],\"runs\":[10000,20000,40000]}\n",
    "df5=pd.DataFrame(dict1)\n",
    "print(df5)"
   ]
  },
  {
   "cell_type": "code",
   "execution_count": 33,
   "metadata": {},
   "outputs": [
    {
     "name": "stdout",
     "output_type": "stream",
     "text": [
      "         name   runs\n",
      "rank1  sachin  10000\n",
      "rank2  sourav  20000\n",
      "rank3  sachin  40000\n"
     ]
    }
   ],
   "source": [
    "dict1={\"name\":['sachin','sourav','sachin'],\"runs\":[10000,20000,40000]}\n",
    "df5=pd.DataFrame(dict1,index=[\"rank1\",\"rank2\",\"rank3\"])\n",
    "print(df5)"
   ]
  },
  {
   "cell_type": "code",
   "execution_count": 34,
   "metadata": {},
   "outputs": [
    {
     "name": "stdout",
     "output_type": "stream",
     "text": [
      "   address    name    run\n",
      "0      NaN  sachin  20000\n",
      "1  kolkata  sachin  20000\n"
     ]
    }
   ],
   "source": [
    "list3=[{\"name\":\"sachin\",\"run\":20000},{\"name\":\"sachin\",\"run\":20000,\"address\":\"kolkata\"}]\n",
    "df6=pd.DataFrame(list3)\n",
    "print(df6)"
   ]
  },
  {
   "cell_type": "code",
   "execution_count": 35,
   "metadata": {},
   "outputs": [
    {
     "ename": "AttributeError",
     "evalue": "module 'pandas' has no attribute 'DtaFrame'",
     "output_type": "error",
     "traceback": [
      "\u001b[1;31m---------------------------------------------------------------------------\u001b[0m",
      "\u001b[1;31mAttributeError\u001b[0m                            Traceback (most recent call last)",
      "\u001b[1;32m<ipython-input-35-d66d10c33616>\u001b[0m in \u001b[0;36m<module>\u001b[1;34m\u001b[0m\n\u001b[0;32m      1\u001b[0m \u001b[0mlist4\u001b[0m\u001b[1;33m=\u001b[0m\u001b[1;33m[\u001b[0m\u001b[1;33m{\u001b[0m\u001b[1;34m\"a\"\u001b[0m\u001b[1;33m:\u001b[0m\u001b[1;36m1\u001b[0m\u001b[1;33m,\u001b[0m\u001b[1;34m\"b\"\u001b[0m\u001b[1;33m:\u001b[0m\u001b[1;36m2\u001b[0m\u001b[1;33m}\u001b[0m\u001b[1;33m,\u001b[0m\u001b[1;33m{\u001b[0m\u001b[1;34m\"a\"\u001b[0m\u001b[1;33m:\u001b[0m\u001b[1;36m4\u001b[0m\u001b[1;33m,\u001b[0m\u001b[1;34m\"b\"\u001b[0m\u001b[1;33m:\u001b[0m\u001b[1;36m5\u001b[0m\u001b[1;33m}\u001b[0m\u001b[1;33m,\u001b[0m\u001b[1;33m{\u001b[0m\u001b[1;34m\"c\"\u001b[0m\u001b[1;33m:\u001b[0m\u001b[1;36m10\u001b[0m\u001b[1;33m}\u001b[0m\u001b[1;33m]\u001b[0m\u001b[1;33m\u001b[0m\u001b[1;33m\u001b[0m\u001b[0m\n\u001b[1;32m----> 2\u001b[1;33m \u001b[0mdf7\u001b[0m\u001b[1;33m=\u001b[0m\u001b[0mpd\u001b[0m\u001b[1;33m.\u001b[0m\u001b[0mDtaFrame\u001b[0m\u001b[1;33m(\u001b[0m\u001b[0mList4\u001b[0m\u001b[1;33m)\u001b[0m\u001b[1;33m\u001b[0m\u001b[1;33m\u001b[0m\u001b[0m\n\u001b[0m",
      "\u001b[1;31mAttributeError\u001b[0m: module 'pandas' has no attribute 'DtaFrame'"
     ]
    }
   ],
   "source": [
    "list4=[{\"a\":1,\"b\":2},{\"a\":4,\"b\":5},{\"c\":10}]\n",
    "df7=pd.DtaFrame(List4)\n"
   ]
  },
  {
   "cell_type": "code",
   "execution_count": null,
   "metadata": {},
   "outputs": [],
   "source": []
  }
 ],
 "metadata": {
  "kernelspec": {
   "display_name": "Python 3",
   "language": "python",
   "name": "python3"
  },
  "language_info": {
   "codemirror_mode": {
    "name": "ipython",
    "version": 3
   },
   "file_extension": ".py",
   "mimetype": "text/x-python",
   "name": "python",
   "nbconvert_exporter": "python",
   "pygments_lexer": "ipython3",
   "version": "3.7.3"
  }
 },
 "nbformat": 4,
 "nbformat_minor": 2
}
