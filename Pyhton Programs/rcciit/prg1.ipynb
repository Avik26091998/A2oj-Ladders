{
 "cells": [
  {
   "cell_type": "code",
   "execution_count": 1,
   "metadata": {},
   "outputs": [
    {
     "name": "stdout",
     "output_type": "stream",
     "text": [
      "Sachin earns a salary of Rs.10000\n"
     ]
    }
   ],
   "source": [
    "print(\"{1} earns a salary of Rs.{0}\".format(10000,\"Sachin\"))"
   ]
  },
  {
   "cell_type": "code",
   "execution_count": 7,
   "metadata": {},
   "outputs": [
    {
     "name": "stdout",
     "output_type": "stream",
     "text": [
      "100\n",
      "100.0\n",
      "Hello World \n",
      "\n"
     ]
    }
   ],
   "source": [
    "var1,var2,var3=100,100.0,\"Hello World\"\n",
    "print(var1)\n",
    "print(var2)\n",
    "print(var3,\"\\n\")"
   ]
  },
  {
   "cell_type": "code",
   "execution_count": 6,
   "metadata": {},
   "outputs": [
    {
     "name": "stdout",
     "output_type": "stream",
     "text": [
      "100\n",
      "100.0\n",
      "Hello World \n",
      "\n",
      "<class 'int'>\n",
      "<class 'float'>\n",
      "<class 'str'>\n"
     ]
    }
   ],
   "source": [
    "var1,var2,var3=100,100.0,\"Hello World\"\n",
    "print(var1)\n",
    "print(var2)\n",
    "print(var3,\"\\n\")\n",
    "\n",
    "print(type(var1))\n",
    "print(type(var2))\n",
    "print(type(var3))\n",
    "\n"
   ]
  },
  {
   "cell_type": "code",
   "execution_count": 1,
   "metadata": {},
   "outputs": [
    {
     "name": "stdout",
     "output_type": "stream",
     "text": [
      "b is greater than a\n"
     ]
    }
   ],
   "source": [
    "a,b=10,11\n",
    "print(\"a is greater than b\") if a > b else print(\"a is equal to b\") if a==b else print(\"b is greater than a\")"
   ]
  },
  {
   "cell_type": "code",
   "execution_count": 1,
   "metadata": {},
   "outputs": [
    {
     "name": "stdout",
     "output_type": "stream",
     "text": [
      "1\n",
      "2\n",
      "3\n"
     ]
    }
   ],
   "source": [
    "#while loop\n",
    "var=1\n",
    "while var<10:\n",
    "    print(var)\n",
    "    if(var==3):\n",
    "        break\n",
    "    var+=1     "
   ]
  },
  {
   "cell_type": "code",
   "execution_count": 2,
   "metadata": {},
   "outputs": [
    {
     "name": "stdout",
     "output_type": "stream",
     "text": [
      "1\n",
      "2\n",
      "3\n"
     ]
    }
   ],
   "source": [
    "#for loop\n",
    "for i in(1,2,3):\n",
    "    print(i)"
   ]
  },
  {
   "cell_type": "code",
   "execution_count": 3,
   "metadata": {},
   "outputs": [
    {
     "name": "stdout",
     "output_type": "stream",
     "text": [
      "1\n",
      "3\n",
      "5\n",
      "7\n",
      "9\n",
      "11\n",
      "13\n",
      "15\n",
      "17\n",
      "19\n"
     ]
    }
   ],
   "source": [
    "#for in range method with step\n",
    "#upper bound is exclude here\n",
    "for i in range(1,20,2):\n",
    "    print(i)"
   ]
  },
  {
   "cell_type": "code",
   "execution_count": 50,
   "metadata": {},
   "outputs": [
    {
     "name": "stdout",
     "output_type": "stream",
     "text": [
      "20\n",
      "18\n",
      "16\n",
      "14\n",
      "12\n",
      "10\n",
      "8\n",
      "6\n",
      "4\n",
      "2\n"
     ]
    }
   ],
   "source": [
    "#for in range method with reverse step\n",
    "#upper bound is excluded here\n",
    "for i in range(20,1,-2):\n",
    "    print(i)\n"
   ]
  },
  {
   "cell_type": "code",
   "execution_count": 6,
   "metadata": {},
   "outputs": [
    {
     "name": "stdout",
     "output_type": "stream",
     "text": [
      "The ceiling value is : 10\n",
      "The floor value is : 9\n",
      "The sqrt value is : 2.0\n",
      "The factorial value is : 6\n"
     ]
    }
   ],
   "source": [
    "#math functions\n",
    "import math\n",
    "c=9.7\n",
    "#var='a'\n",
    "\n",
    "print(\"The ceiling value is :\",math.ceil(c))\n",
    "print(\"The floor value is :\",math.floor(c))\n",
    "print(\"The sqrt value is :\",math.sqrt(4))\n",
    "print(\"The factorial value is :\",math.factorial(3))"
   ]
  },
  {
   "cell_type": "code",
   "execution_count": 7,
   "metadata": {},
   "outputs": [
    {
     "name": "stdout",
     "output_type": "stream",
     "text": [
      "the maximum value is : 6\n",
      "the manimum value is : 3\n",
      "the rounded value is : 5\n"
     ]
    }
   ],
   "source": [
    "#naive python mathematical functions\n",
    "print(\"the maximum value is :\",max(5,3,6))\n",
    "print(\"the manimum value is :\",min(5,3,6))\n",
    "print(\"the rounded value is :\",round(5.4))\n"
   ]
  },
  {
   "cell_type": "code",
   "execution_count": 8,
   "metadata": {},
   "outputs": [
    {
     "name": "stdout",
     "output_type": "stream",
     "text": [
      "Random number : 0.20871007198595337\n",
      "1.Range from list : 256\n",
      "2.Range from list:  2\n",
      "3.Random Number : 4\n",
      "3.Random Number : 2\n",
      "3.Random Number : 3\n",
      "3.Random Number : 5\n",
      "3.Random Number : 0\n",
      "3.Random Number : 4\n",
      "3.Random Number : 1\n",
      "3.Random Number : 3\n",
      "3.Random Number : 0\n",
      "3.Random Number : 6\n",
      "4.The value is: -1\n"
     ]
    }
   ],
   "source": [
    "#Random numbers\n",
    "import random\n",
    "#Generates floating point number between 0 and 1\n",
    "print(\"Random number :\",random.random())\n",
    "\n",
    "#Generates random number within a range from 0 excluding upperbound\n",
    "print(\"1.Range from list :\",random.randrange(999))\n",
    "\n",
    "#generate random number within a range from base value to range skipped\n",
    "#Here the third term is skipped value which will not be printed. \n",
    "print(\"2.Range from list: \",random.randrange(2,12,4))\n",
    "      \n",
    "#randint\n",
    "#generate random number between two integer including both      \n",
    "x=0\n",
    "while x<10:\n",
    "    print(\"3.Random Number :\",random.randint(0,9))\n",
    "    x=x+1\n",
    "#choice\n",
    "#generate a random value from list\n",
    "print(\"4.The value is:\",random.choice([1,-1,2,3,4]))\n",
    "      \n",
    "      "
   ]
  },
  {
   "cell_type": "code",
   "execution_count": 22,
   "metadata": {},
   "outputs": [
    {
     "name": "stdout",
     "output_type": "stream",
     "text": [
      "2\n",
      "3\n",
      "5\n",
      "7\n",
      "11\n",
      "13\n",
      "17\n",
      "19\n"
     ]
    }
   ],
   "source": [
    "#display the prime numbers between 1 and 20\n",
    "print(\"2\")\n",
    "for i in range(3,21):\n",
    "    f=0\n",
    "    for j in range(2,i):\n",
    "          if(i%j==0):\n",
    "            f=1\n",
    "    if(f==0):\n",
    "        print(i)    \n",
    "        \n",
    "    \n",
    "\n",
    "\n"
   ]
  },
  {
   "cell_type": "code",
   "execution_count": 16,
   "metadata": {},
   "outputs": [
    {
     "name": "stdout",
     "output_type": "stream",
     "text": [
      "<class 'str'>\n",
      "2427259098704\n",
      "2427173673424\n",
      "2427259098704\n",
      "hello\n"
     ]
    }
   ],
   "source": [
    "var=\"hello\"\n",
    "print(type(var))\n",
    "print(id(var)) #id gives the address value where data is stored in the memory\n",
    "var=\"h\"\n",
    "print(id(var))\n",
    "var=\"hello\"\n",
    "print(id(var))\n",
    "print(var)"
   ]
  },
  {
   "cell_type": "code",
   "execution_count": 18,
   "metadata": {},
   "outputs": [
    {
     "name": "stdout",
     "output_type": "stream",
     "text": [
      "First character:  H\n",
      "Last character:  d\n",
      "0 to 3rd character:  Hel\n",
      "2nd to 3rd character:  ello\n",
      "3rd to 3rd last character:  lloWor\n"
     ]
    }
   ],
   "source": [
    "#String slicing\n",
    "str=\"HelloWorld\"\n",
    "print(\"First character: \",str[0])\n",
    "print(\"Last character: \",str[-1])\n",
    "print(\"0 to 3rd character: \",str[:3])\n",
    "print(\"2nd to 3rd character: \",str[1:5])\n",
    "print(\"3rd to 3rd last character: \",str[2:-2])"
   ]
  },
  {
   "cell_type": "code",
   "execution_count": 28,
   "metadata": {},
   "outputs": [
    {
     "name": "stdout",
     "output_type": "stream",
     "text": [
      "Character a is not present in str\n",
      "Character a is not present in str\n"
     ]
    }
   ],
   "source": [
    "#String membership test\n",
    "str=\"HelloWorld\"\n",
    "if \"a\" in str:\n",
    "    print(\"Character a is present in str\")\n",
    "else:\n",
    "    print(\"Character a is not present in str\")\n",
    "    \n",
    "if \"a\" not in str:\n",
    "    print(\"Character a is not present in str\")\n",
    "else:\n",
    "    print(\"Character a is present in str\")\n",
    "        "
   ]
  },
  {
   "cell_type": "code",
   "execution_count": 35,
   "metadata": {},
   "outputs": [
    {
     "name": "stdout",
     "output_type": "stream",
     "text": [
      "The lenth of str: 11\n",
      "String after stripping: Hello World\n",
      "11\n",
      "['Hello', 'World', 'All']\n",
      "['Hello', 'World,All']\n",
      "3\n",
      "2\n",
      "Number or not : 2\n",
      "Number or not : True\n"
     ]
    }
   ],
   "source": [
    "str1=\"Hello World\"\n",
    "print(\"The lenth of str:\",len(str1))\n",
    "print(\"String after stripping:\",str1.strip())\n",
    "print(len(str1.strip()))\n",
    "str1=\"Hello,World,All\"\n",
    "print(str1.split(\",\"))\n",
    "#max split\n",
    "print(str1.split(\",\",1)) # 1 gives the number of split  \n",
    "\n",
    "str2=\"Hello World\"\n",
    "print(str2.count(\"l\"))\n",
    "print(str2.count(\"l\",0,5)) #(0,5) is range for count \n",
    "\n",
    "str3=\"hello World\"\n",
    "print(\"Number or not :\",str3.find(\"l\",0,len(str1)))\n",
    "\n",
    "str4=\"4\"\n",
    "print(\"Number or not :\",str4.isdigit())"
   ]
  },
  {
   "cell_type": "code",
   "execution_count": 15,
   "metadata": {},
   "outputs": [
    {
     "name": "stdout",
     "output_type": "stream",
     "text": [
      "    H\n",
      "   H E\n",
      "  H E L\n",
      " H E L L\n",
      "H E L L O\n",
      " H E L L\n",
      "  H E L\n",
      "   H E\n",
      "    H\n"
     ]
    }
   ],
   "source": [
    "str=\"HELLO\"\n",
    "l=len(str)\n",
    "for i in range(1,l+1):\n",
    "    for j in range(i,l):\n",
    "        print(end=\" \")\n",
    "    print(\" \".join(str[:i]))\n",
    "for i in range(1,l):\n",
    "    for j in range(1,i+1):\n",
    "        print(end=\" \")\n",
    "    print(\" \".join(str[:l-1]))\n",
    "    l-=1"
   ]
  },
  {
   "cell_type": "code",
   "execution_count": 7,
   "metadata": {},
   "outputs": [
    {
     "name": "stdout",
     "output_type": "stream",
     "text": [
      "H\n",
      "HE\n",
      "HEL\n",
      "HELL\n",
      "HELLO\n"
     ]
    }
   ],
   "source": [
    "str=\"HELLO\"\n",
    "for i in range(1,len(str)+1):\n",
    "    print(str[:i])\n"
   ]
  },
  {
   "cell_type": "code",
   "execution_count": 47,
   "metadata": {},
   "outputs": [
    {
     "name": "stdout",
     "output_type": "stream",
     "text": [
      "HELLO\n",
      "HELL\n",
      "HEL\n",
      "HE\n",
      "H\n"
     ]
    }
   ],
   "source": [
    "str=\"HELLO\"\n",
    "for i in range(len(str),0,-1):\n",
    "    print(str[:i])\n"
   ]
  },
  {
   "cell_type": "code",
   "execution_count": 97,
   "metadata": {},
   "outputs": [
    {
     "name": "stdout",
     "output_type": "stream",
     "text": [
      "B I N G O\n"
     ]
    }
   ],
   "source": [
    "s = \"BINGO\"\n",
    "print(\" \".join(s))"
   ]
  },
  {
   "cell_type": "code",
   "execution_count": 21,
   "metadata": {},
   "outputs": [
    {
     "name": "stdout",
     "output_type": "stream",
     "text": [
      "[1, 5, 3, 7, 5]\n",
      "5\n",
      "5\n",
      "[5, 3, 7]\n",
      "the value in the list are 1\n",
      "the value in the list are 5\n",
      "the value in the list are 3\n",
      "the value in the list are 7\n",
      "the value in the list are 5\n",
      "list after updation:  [1, 5, 21, 7, 5]\n"
     ]
    }
   ],
   "source": [
    "list1=[1,5,3,7,5]\n",
    "print(list1)\n",
    "print(list1[1])\n",
    "print(len(list1))\n",
    "print(list1[1:4])\n",
    "for x in list1:\n",
    "    print(\"the value in the list are\",x)\n",
    "\n",
    "#updating list\n",
    "list1[2]=21\n",
    "print(\"list after updation: \",list1)"
   ]
  },
  {
   "cell_type": "code",
   "execution_count": 25,
   "metadata": {},
   "outputs": [
    {
     "name": "stdout",
     "output_type": "stream",
     "text": [
      "List after adding element at the 2nd index:  [1, 5, 101, 3, 7, 5]\n",
      "The length of list1 before addition is : 5\n",
      "the length of list1 after addition is: 6\n",
      "[1, 5, 3, 7, 5, 102]\n",
      "7\n",
      "[1, 5, 3, 7, 5, 102, [110, 111]]\n"
     ]
    }
   ],
   "source": [
    "#adding elements at specific position in list\n",
    "list1=[1,5,3,7,5]\n",
    "list1.insert(2,101)\n",
    "print(\"List after adding element at the 2nd index: \",list1)\n",
    "\n",
    "list1=[1,5,3,7,5]\n",
    "print(\"The length of list1 before addition is :\",len(list1))\n",
    "list1.append(102)\n",
    "print(\"the length of list1 after addition is:\",len(list1))\n",
    "print(list1)\n",
    "\n",
    "list1.append([110,111])\n",
    "print(len(list1))\n",
    "print(list1)"
   ]
  },
  {
   "cell_type": "code",
   "execution_count": 26,
   "metadata": {},
   "outputs": [
    {
     "name": "stdout",
     "output_type": "stream",
     "text": [
      "5\n",
      "after extending 7\n",
      "after extending [1, 5, 3, 7, 5, 900, 991]\n"
     ]
    }
   ],
   "source": [
    "list1=[1,5,3,7,5]\n",
    "print(len(list1))\n",
    "list1.extend([900,991])\n",
    "print(\"after extending\",len(list1))\n",
    "print(\"after extending\",list1)"
   ]
  },
  {
   "cell_type": "code",
   "execution_count": 29,
   "metadata": {},
   "outputs": [
    {
     "name": "stdout",
     "output_type": "stream",
     "text": [
      "list after deletion [5, 3, 7, 5]\n",
      "list after deletion [5, 3, 5]\n"
     ]
    }
   ],
   "source": [
    "#removing the value\n",
    "list1=[1,5,3,7,5]\n",
    "del list1[0]\n",
    "print(\"list after deletion: \",list1)\n",
    "list1.remove(7)\n",
    "print(\"list after deletion: \",list1)"
   ]
  },
  {
   "cell_type": "code",
   "execution_count": 31,
   "metadata": {},
   "outputs": [
    {
     "name": "stdout",
     "output_type": "stream",
     "text": [
      "list after deletion [5, 3, 7, 5]\n",
      "Removed value 1\n"
     ]
    }
   ],
   "source": [
    "#pop method\n",
    "list1=[1,5,3,7,5]\n",
    "var=list1.pop(0)\n",
    "print(\"list after deletion\",list1)\n",
    "print(\"Removed value\",var)"
   ]
  },
  {
   "cell_type": "code",
   "execution_count": 33,
   "metadata": {},
   "outputs": [
    {
     "name": "stdout",
     "output_type": "stream",
     "text": [
      "[1, 5, 3, 7, 5]\n",
      "sorting asc [1, 3, 5, 5, 7]\n",
      "Sorting desc [7, 5, 5, 3, 1]\n"
     ]
    }
   ],
   "source": [
    "#default sorting is in ascending order\n",
    "#sorting list\n",
    "list1=[1,5,3,7,5]\n",
    "print(list1)\n",
    "list1.sort()\n",
    "print(\"sorting asc\",list1)\n",
    "list1.sort(reverse=True)\n",
    "print(\"Sorting desc\",list1)"
   ]
  },
  {
   "cell_type": "code",
   "execution_count": 35,
   "metadata": {},
   "outputs": [
    {
     "name": "stdout",
     "output_type": "stream",
     "text": [
      "[[11, 12, 5, 2], [15, 6, 10], [10, 8, 12, 5], [12, 15, 8, 6]]\n",
      "[11, 12, 5, 2]\n",
      "10\n"
     ]
    }
   ],
   "source": [
    "#creating list of lists\n",
    "T=[[11,12,5,2],[15,6,10],[10,8,12,5],[12,15,8,6]]\n",
    "print(T)\n",
    "print(T[0])\n",
    "print(T[1][2]) #It means 1st list of the 2nd index"
   ]
  },
  {
   "cell_type": "code",
   "execution_count": 36,
   "metadata": {},
   "outputs": [
    {
     "name": "stdout",
     "output_type": "stream",
     "text": [
      "11 12 5 2 \n",
      "15 6 10 \n",
      "10 8 12 5 \n",
      "12 15 8 6 \n"
     ]
    }
   ],
   "source": [
    "#printing 2-D list\n",
    "T=[[11,12,5,2],[15,6,10],[10,8,12,5],[12,15,8,6]]\n",
    "for r in T:     # r is the list\n",
    "    for c in r:   # c is an int\n",
    "        print(c,end=\" \")\n",
    "    print()"
   ]
  },
  {
   "cell_type": "code",
   "execution_count": 2,
   "metadata": {},
   "outputs": [
    {
     "name": "stdout",
     "output_type": "stream",
     "text": [
      "2\n"
     ]
    }
   ],
   "source": [
    "# write a python program to count the no of strings in a list whose length are greater than 4 and\n",
    "# the 1st and last character are same\n",
    "\n",
    "list1=[\"madam\",\"hills\",\"maam\",\"abcda\"]\n",
    "count=0\n",
    "for i in list1:\n",
    "    l=len(i)\n",
    "    if(l>4 and i[0]==i[-1]):\n",
    "        count=count+1\n",
    "print(count)"
   ]
  },
  {
   "cell_type": "code",
   "execution_count": 23,
   "metadata": {},
   "outputs": [
    {
     "name": "stdout",
     "output_type": "stream",
     "text": [
      "1 2 3 4 5 "
     ]
    }
   ],
   "source": [
    "# Given a list of integers with some duplicate values, write a program to create a list of unique values from the previous list\n",
    "list1=[1,2,3,4,5,5]\n",
    "list1.sort()\n",
    "list2=[]\n",
    "for x in list1:\n",
    "    if x not in list2:\n",
    "        list2.append(x)\n",
    "for x in list2:\n",
    "    print(x,end=\" \")    "
   ]
  },
  {
   "cell_type": "code",
   "execution_count": 9,
   "metadata": {},
   "outputs": [
    {
     "name": "stdout",
     "output_type": "stream",
     "text": [
      "[1, 3, 5, 7, 9]\n",
      "[1, 3, 5, 7, 9]\n"
     ]
    }
   ],
   "source": [
    "#list a create of all the odd no from 0 to 10\n",
    "list=[]\n",
    "for i in range(0,11):\n",
    "    if i%2==1:\n",
    "        list.append(i)\n",
    "print(list)\n",
    "\n",
    "oddlist=[x for x in range(11) if x%2!=0]\n",
    "print(oddlist)"
   ]
  },
  {
   "cell_type": "code",
   "execution_count": 25,
   "metadata": {},
   "outputs": [
    {
     "name": "stdout",
     "output_type": "stream",
     "text": [
      "{'st': 'Sachin Tendulkar', 'msd': 'Mahendra singh Dhoni', 'run': 10000}\n",
      "10000\n",
      "st\n",
      "msd\n",
      "run\n",
      "Sachin Tendulkar\n",
      "Mahendra singh Dhoni\n",
      "10000\n",
      "st  :  Sachin Tendulkar\n",
      "msd  :  Mahendra singh Dhoni\n",
      "run  :  10000\n",
      "{'st': 'Sachin Tendulkar', 'msd': 'Mahendra singh Dhoni', 'run': 10000, 'sv': 'Sourav Ganguly'}\n",
      "34500\n",
      "4\n"
     ]
    }
   ],
   "source": [
    "#Creating Dictionary\n",
    "dict1={\n",
    "    \"st\":\"Sachin Tendulkar\",\n",
    "    \"msd\":\"Mahendra singh Dhoni\",\n",
    "    \"run\":10000  }\n",
    "print(dict1)\n",
    "print(dict1[\"run\"])\n",
    "for x in dict1:\n",
    "    print(x)\n",
    "for x in dict1:\n",
    "    print(dict1[x])\n",
    "for x in dict1:\n",
    "    print(x,\" : \",dict1[x])\n",
    "\n",
    "dict1['sv']=\"Sourav Ganguly\"\n",
    "print(dict1)\n",
    "dict1[\"run\"]=34500\n",
    "print(dict1[\"run\"])\n",
    "print(len(dict1))\n",
    "\n"
   ]
  },
  {
   "cell_type": "code",
   "execution_count": 26,
   "metadata": {},
   "outputs": [
    {
     "name": "stdout",
     "output_type": "stream",
     "text": [
      "{'st': 'Sachin Tendulkar', 'msd': 'Mahendra singh Dhoni', 'run': 10000}\n",
      "{'st': 'Sachin Tendulkar', 'msd': 'Mahendra singh Dhoni'}\n",
      "10000\n",
      "{'st': 'Sachin Tendulkar'}\n",
      "('msd', 'Mahendra singh Dhoni')\n"
     ]
    }
   ],
   "source": [
    "#remove items from list\n",
    "dict1={\n",
    "    \"st\":\"Sachin Tendulkar\",\n",
    "    \"msd\":\"Mahendra singh Dhoni\",\n",
    "    \"run\":10000  }\n",
    "print(dict1)\n",
    "var=dict1.pop('run') \n",
    "print(dict1)\n",
    "print(var)  \n",
    "var1=dict1.popitem()\n",
    "print(dict1)\n",
    "print(var1)"
   ]
  },
  {
   "cell_type": "code",
   "execution_count": 1,
   "metadata": {},
   "outputs": [
    {
     "name": "stdout",
     "output_type": "stream",
     "text": [
      "3\n"
     ]
    }
   ],
   "source": [
    "# Create a dictionary\n",
    "# {1:1,2:4,3:10,4:16,5:15,11:121,20:400}\n",
    "#display the count of elements whose key are between 1 and 10 and the values are the square of the keys\n",
    "dict1={\n",
    "    1:1,\n",
    "    2:4,\n",
    "    3:10,\n",
    "    4:16,\n",
    "    5:15,\n",
    "    11:121,\n",
    "    20:400\n",
    "    }\n",
    "count=0\n",
    "for x in dict1:\n",
    "    if x<10 and x**2==dict1[x]:\n",
    "        count+=1\n",
    "print(count)"
   ]
  },
  {
   "cell_type": "code",
   "execution_count": 45,
   "metadata": {},
   "outputs": [
    {
     "name": "stdout",
     "output_type": "stream",
     "text": [
      "['Sun', 'Mon', 'Tue', 'Wed', 'Thr', 'Fri', 'Sat']\n"
     ]
    }
   ],
   "source": [
    "list1=[\"Sunday\",\"Monday\",\"Tuesday\",\"Wednesday\",\"Thrusday\",\"Friday\",\"Saturday\"]\n",
    "list2=[x[:3] for x in list1]\n",
    "print(list2)"
   ]
  },
  {
   "cell_type": "code",
   "execution_count": 1,
   "metadata": {},
   "outputs": [
    {
     "name": "stdout",
     "output_type": "stream",
     "text": [
      "Sachin\n",
      "Sachin\n",
      "Sourav\n",
      "Dhoni\n"
     ]
    }
   ],
   "source": [
    "#Creating tuples\n",
    "tuple1=(\"Sachin\",\"Sourav\",\"Dhoni\")\n",
    "print(tuple1[0])\n",
    "for x in tuple1:\n",
    "    print(x)"
   ]
  },
  {
   "cell_type": "code",
   "execution_count": 2,
   "metadata": {},
   "outputs": [
    {
     "name": "stdout",
     "output_type": "stream",
     "text": [
      "tup1[0]:  physics\n",
      "tup2[1:5]:  (2, 3, 4, 5)\n"
     ]
    }
   ],
   "source": [
    "tup1=('physics','chemistry',1997,2000)\n",
    "tup2=(1,2,3,4,5,6,7)\n",
    "print(\"tup1[0]: \",tup1[0])\n",
    "print(\"tup2[1:5]: \",tup2[1:5])"
   ]
  },
  {
   "cell_type": "code",
   "execution_count": 23,
   "metadata": {},
   "outputs": [
    {
     "name": "stdout",
     "output_type": "stream",
     "text": [
      "[1 2 3]\n",
      "<class 'numpy.ndarray'>\n",
      "int32\n",
      "1\n"
     ]
    }
   ],
   "source": [
    "import numpy as np\n",
    "#1D array\n",
    "arr1=np.array([1,2,3])\n",
    "print(arr1)\n",
    "print(type(arr1))\n",
    "print(arr1.dtype)\n",
    "print(arr1[0])"
   ]
  },
  {
   "cell_type": "code",
   "execution_count": 5,
   "metadata": {},
   "outputs": [
    {
     "name": "stdout",
     "output_type": "stream",
     "text": [
      "[[1 2 3]\n",
      " [4 5 6]]\n",
      "2\n",
      "2\n"
     ]
    }
   ],
   "source": [
    "#nD array\n",
    "arr2=np.array([[1,2,3],[4,5,6]])\n",
    "print(arr2)\n",
    "print(arr2[0,1])\n",
    "print(arr2.ndim)"
   ]
  },
  {
   "cell_type": "code",
   "execution_count": 6,
   "metadata": {},
   "outputs": [
    {
     "name": "stdout",
     "output_type": "stream",
     "text": [
      "[9 2]\n",
      "1\n",
      "[[9]\n",
      " [2]]\n",
      "2\n"
     ]
    }
   ],
   "source": [
    "arr2=np.array([(9),(2)])\n",
    "print(arr2)\n",
    "print(arr2.ndim)\n",
    "#print(arr2[0,2])\n",
    "arr2=np.array([(9,),(2,)])\n",
    "print(arr2)\n",
    "print(arr2.ndim)"
   ]
  },
  {
   "cell_type": "code",
   "execution_count": 7,
   "metadata": {},
   "outputs": [
    {
     "name": "stdout",
     "output_type": "stream",
     "text": [
      "[9. 2.]\n",
      "float64\n"
     ]
    }
   ],
   "source": [
    "import numpy as np\n",
    "#Data types\n",
    "arr3=np.array([9,2],dtype=float)\n",
    "print(arr3)\n",
    "print(arr3.dtype)"
   ]
  },
  {
   "cell_type": "code",
   "execution_count": 8,
   "metadata": {},
   "outputs": [
    {
     "name": "stdout",
     "output_type": "stream",
     "text": [
      "array shape is: (3, 2)\n",
      "array is: [[10 20]\n",
      " [30 40]\n",
      " [30 40]]\n"
     ]
    }
   ],
   "source": [
    "#shape-returns tupke consisting of array dimensions\n",
    "arr1=np.array([[10,20],[30,40],[30,40]])\n",
    "print(\"array shape is:\",arr1.shape)\n",
    "print(\"array is:\",arr1)"
   ]
  },
  {
   "cell_type": "code",
   "execution_count": 9,
   "metadata": {},
   "outputs": [
    {
     "name": "stdout",
     "output_type": "stream",
     "text": [
      "Array shape is : (2, 3)\n",
      "Array shape is : (3, 2)\n",
      "Array is : [[10 20]\n",
      " [40 50]\n",
      " [30 40]]\n"
     ]
    }
   ],
   "source": [
    "#resizes the shape\n",
    "arr1=np.array([[10,20,40],[50,30,40]])\n",
    "print(\"Array shape is :\",arr1.shape)\n",
    "arr1.shape=(3,2)\n",
    "print(\"Array shape is :\",arr1.shape)\n",
    "print(\"Array is :\",arr1)"
   ]
  },
  {
   "cell_type": "code",
   "execution_count": 10,
   "metadata": {},
   "outputs": [
    {
     "name": "stdout",
     "output_type": "stream",
     "text": [
      "Array shape is: (2, 4)\n",
      "Array is: [[10 20]\n",
      " [30 40]\n",
      " [50 30]\n",
      " [40 80]]\n"
     ]
    }
   ],
   "source": [
    "#resizes the shape\n",
    "arr2=np.array([[10,20,30,40],[50,30,40,80]])\n",
    "b=arr2.reshape(4,2)\n",
    "print(\"Array shape is:\",arr2.shape)\n",
    "print(\"Array is:\",b)"
   ]
  },
  {
   "cell_type": "code",
   "execution_count": 11,
   "metadata": {},
   "outputs": [
    {
     "name": "stdout",
     "output_type": "stream",
     "text": [
      "Filled with random values: [[10 20]\n",
      " [30 40]\n",
      " [30 40]]\n",
      "Filled with 0 floats: [[0. 0.]\n",
      " [0. 0.]\n",
      " [0. 0.]]\n",
      "Filled with 0 ints: [[0 0]\n",
      " [0 0]\n",
      " [0 0]]\n",
      "Filled with 1 ints: [[1 1]\n",
      " [1 1]\n",
      " [1 1]]\n"
     ]
    }
   ],
   "source": [
    "arr2=np.empty([3,2],dtype=int)\n",
    "print(\"Filled with random values:\",arr2)#filled with random values\n",
    "\n",
    "arr3=np.zeros([3,2])\n",
    "print(\"Filled with 0 floats:\",arr3)#default datatype is float\n",
    "\n",
    "arr4=np.zeros([3,2],dtype=int)\n",
    "print(\"Filled with 0 ints:\",arr4)\n",
    "\n",
    "arr5=np.ones([3,2],dtype=int)\n",
    "print(\"Filled with 1 ints:\",arr5)"
   ]
  },
  {
   "cell_type": "code",
   "execution_count": 12,
   "metadata": {},
   "outputs": [
    {
     "name": "stdout",
     "output_type": "stream",
     "text": [
      "Dimension of array: 2\n",
      "Array from List of tuples: [[1 2 3]\n",
      " [4 5 6]]\n"
     ]
    }
   ],
   "source": [
    "#Create an ndarray from a list\n",
    "list1=[(1,2,3),(4,5,6)]\n",
    "arr4=np.array(list1)\n",
    "print(\"Dimension of array:\",arr4.ndim)\n",
    "print(\"Array from List of tuples:\",arr4)"
   ]
  },
  {
   "cell_type": "code",
   "execution_count": 13,
   "metadata": {},
   "outputs": [
    {
     "name": "stdout",
     "output_type": "stream",
     "text": [
      "[0 1 2 3 4 5 6 7 8 9]\n",
      "[0. 1. 2. 3. 4. 5. 6. 7. 8. 9.]\n",
      "[2 4 6 8]\n",
      "Upper bound included:  [ 2.          4.66666667  7.33333333 10.        ]\n",
      "upper bound not included [2 4 7]\n"
     ]
    }
   ],
   "source": [
    "import numpy as np\n",
    "arr1=np.arange(10)#upper bound not included\n",
    "print(arr1)\n",
    "arr2=np.arange(10,dtype=float)\n",
    "print(arr2)\n",
    "\n",
    "arr3=np.arange(2,10,2)\n",
    "print(arr3)#start,stop,step\n",
    "\n",
    "#linespace--instead of step, the no. of inteval is specified.\n",
    "arr4=np.linspace(2,10,4)#endpoint is to included the upper bound or not\n",
    "print(\"Upper bound included: \",arr4)\n",
    "\n",
    "arr4=np.linspace(2,10,3,endpoint=False,dtype=int)\n",
    "print(\"upper bound not included\",arr4)"
   ]
  },
  {
   "cell_type": "code",
   "execution_count": 14,
   "metadata": {},
   "outputs": [
    {
     "name": "stdout",
     "output_type": "stream",
     "text": [
      "2.After slicing: [2 3 4 5 6 7 8]\n",
      "3.After slicing: [2 3 4 5 6 7 8 9]\n",
      "[[2 3]\n",
      " [5 6]\n",
      " [8 9]]\n"
     ]
    }
   ],
   "source": [
    "\n",
    "arr1=np.arange(10)\n",
    "\n",
    "print(\"2.After slicing:\",arr1[2:9:1])\n",
    "print(\"3.After slicing:\",arr1[2:])\n",
    "\n",
    "#slicing for nd array\n",
    "arr2=np.array([[1,2,3],[4,5,6],[7,8,9]])\n",
    "print(arr2[:,1:])"
   ]
  },
  {
   "cell_type": "code",
   "execution_count": 15,
   "metadata": {},
   "outputs": [
    {
     "name": "stdout",
     "output_type": "stream",
     "text": [
      "[2 5 8]\n",
      "[ 7  8  9 11]\n",
      "[[ 2  3  4]\n",
      " [ 5  6 10]\n",
      " [ 8  9 11]]\n"
     ]
    }
   ],
   "source": [
    "#using ellipsis- means will consider all the list\n",
    "arr4=np.array([[1,2,3,4],[4,5,6,10],[7,8,9,11]])\n",
    "print(arr4[...,1])\n",
    "print(arr4[2,...])\n",
    "print(arr4[...,1:])"
   ]
  },
  {
   "cell_type": "code",
   "execution_count": 16,
   "metadata": {},
   "outputs": [
    {
     "name": "stdout",
     "output_type": "stream",
     "text": [
      "8.After Slicing: [2 4 9]\n"
     ]
    }
   ],
   "source": [
    "arr5=np.array([[1,2,3],[4,5,6],[7,8,9]])\n",
    "y=arr5[[0,1,2],[1,0,2]] #(0,1),(1,0),(2,2)\n",
    "print(\"8.After Slicing:\",y)"
   ]
  },
  {
   "cell_type": "code",
   "execution_count": 17,
   "metadata": {},
   "outputs": [
    {
     "name": "stdout",
     "output_type": "stream",
     "text": [
      "Multiplication on arrays of same shape: [[400 600 600]\n",
      " [ 14  18  20]]\n",
      "Array after addition [[ 2  3  4]\n",
      " [21 32 43]\n",
      " [51 62 73]]\n"
     ]
    }
   ],
   "source": [
    "#Broadcasting when operations of multiple arrays with shape\n",
    "arr7=np.array([[10,20,30],[2,3,4]])\n",
    "arr8=np.array([[40,30,20],[7,6,5]])\n",
    "print(\"Multiplication on arrays of same shape:\",arr7*arr8)\n",
    "\n",
    "#Smaller array are broadcasted to larger array\n",
    "\n",
    "arr8=np.array([[1,1,1],[20,30,40],[50,60,70]])\n",
    "arr9=np.array([1,2,3])\n",
    "print(\"Array after addition\",arr8+arr9)"
   ]
  },
  {
   "cell_type": "code",
   "execution_count": 18,
   "metadata": {},
   "outputs": [
    {
     "name": "stdout",
     "output_type": "stream",
     "text": [
      "4. Transposed array: [0 1 2 3 4 5 6 7 8 9]\n"
     ]
    }
   ],
   "source": [
    "#transposing array and then iterating\n",
    "tempdeftransposed=arr1.T\n",
    "print(\"4. Transposed array:\",tempdeftransposed)"
   ]
  },
  {
   "cell_type": "code",
   "execution_count": 19,
   "metadata": {},
   "outputs": [
    {
     "name": "stdout",
     "output_type": "stream",
     "text": [
      "Concatenate along 0 axis: [[2 3]\n",
      " [4 5]\n",
      " [6 7]\n",
      " [8 9]]\n",
      "Concatenate along 1 axis: [[2 3 6 7]\n",
      " [4 5 8 9]]\n"
     ]
    }
   ],
   "source": [
    "#Concatenate\n",
    "arr1=np.array([[2,3],[4,5]])\n",
    "arr2=np.array([[6,7],[8,9]])\n",
    "resarr=np.concatenate((arr1,arr2))#default axis=0\n",
    "print(\"Concatenate along 0 axis:\",resarr)\n",
    "resarr=np.concatenate((arr1,arr2),axis=1)\n",
    "print(\"Concatenate along 1 axis:\",resarr)"
   ]
  },
  {
   "cell_type": "code",
   "execution_count": 20,
   "metadata": {},
   "outputs": [
    {
     "name": "stdout",
     "output_type": "stream",
     "text": [
      "Whole array: [0 1 2 3 4 5 6 7 8]\n",
      "After splitting in 3 equal sized axis: [array([0, 1, 2]), array([3, 4, 5]), array([6, 7, 8])]\n"
     ]
    }
   ],
   "source": [
    "#Split\n",
    "arr3=np.arange(9)\n",
    "print(\"Whole array:\",arr3)\n",
    "arr4=np.split(arr3,3)\n",
    "print(\"After splitting in 3 equal sized axis:\",arr4)"
   ]
  },
  {
   "cell_type": "code",
   "execution_count": 21,
   "metadata": {},
   "outputs": [
    {
     "name": "stdout",
     "output_type": "stream",
     "text": [
      "Before appending: [[0 1 2]\n",
      " [3 4 5]\n",
      " [6 7 8]]\n",
      "After appending: [ 0  1  2  3  4  5  6  7  8 10 11 12]\n",
      "Appended at axis 1: [[ 0  1  2 10 11 12]\n",
      " [ 3  4  5 13 14 15]\n",
      " [ 6  7  8 16 17 18]]\n",
      "Appended at 0 axis: [[ 0  1  2]\n",
      " [ 3  4  5]\n",
      " [ 6  7  8]\n",
      " [10 11 12]]\n"
     ]
    }
   ],
   "source": [
    "#Append elements\n",
    "arr4=np.arange(9)\n",
    "arr4=arr4.reshape(3,3)\n",
    "print(\"Before appending:\",arr4)\n",
    "arr5=np.append(arr4,[10,11,12])\n",
    "print(\"After appending:\",arr5)\n",
    "arr6=np.append(arr4,[[10,11,12],[13,14,15],[16,17,18]],axis=1)\n",
    "print(\"Appended at axis 1:\",arr6)\n",
    "arr6=np.append(arr4,[[10,11,12]],axis=0)\n",
    "print(\"Appended at 0 axis:\",arr6)"
   ]
  },
  {
   "cell_type": "code",
   "execution_count": 22,
   "metadata": {},
   "outputs": [
    {
     "name": "stdout",
     "output_type": "stream",
     "text": [
      "Arr4 [[0 1 2]\n",
      " [3 4 5]\n",
      " [6 7 8]]\n",
      "Axis parameter not passed hence flattend: [  0   1   2 199   3   4   5   6   7   8]\n",
      "Inserted at 3rd index in 0 axis: [[ 0  1  2]\n",
      " [ 3  4  5]\n",
      " [ 6  7  8]\n",
      " [11 11 11]]\n",
      "Inserted at 3rd index in 1 axis: [[  0   1   2 290]\n",
      " [  3   4   5 290]\n",
      " [  6   7   8 290]]\n"
     ]
    }
   ],
   "source": [
    "#insert at specific location\n",
    "arr4=np.arange(9)\n",
    "arr4=arr4.reshape(3,3)\n",
    "print(\"Arr4\",arr4)\n",
    "arr7=np.insert(arr4,3,199)\n",
    "print(\"Axis parameter not passed hence flattend:\",arr7)\n",
    "arr8=np.insert(arr4,3,[11],axis=0)\n",
    "print(\"Inserted at 3rd index in 0 axis:\",arr8)\n",
    "arr9=np.insert(arr4,3,[290],axis=1)\n",
    "print(\"Inserted at 3rd index in 1 axis:\",arr9)"
   ]
  },
  {
   "cell_type": "code",
   "execution_count": 1,
   "metadata": {},
   "outputs": [
    {
     "name": "stdout",
     "output_type": "stream",
     "text": [
      "Array flattend before deleting as axis parameter not passed: [0 1 2 4 5 6 7 8]\n",
      "Element deleted along 0 axis: [[0 1 2]\n",
      " [3 4 5]]\n",
      "[[0 1 2]\n",
      " [3 4 5]\n",
      " [6 7 8]]\n",
      "Element deleted along 1 axis: [[0 1]\n",
      " [3 4]\n",
      " [6 7]]\n",
      "[[0 1 2]\n",
      " [3 4 5]\n",
      " [6 7 8]]\n"
     ]
    }
   ],
   "source": [
    "#Remove\n",
    "import numpy as np\n",
    "arr4=np.arange(9)\n",
    "arr4=arr4.reshape(3,3)\n",
    "arr10=np.delete(arr4,3)\n",
    "print(\"Array flattend before deleting as axis parameter not passed:\",arr10)\n",
    "arr11=np.delete(arr4,2,axis=0)\n",
    "print(\"Element deleted along 0 axis:\",arr11)\n",
    "print(arr4)\n",
    "arr11=np.delete(arr4,2,axis=1)\n",
    "print(\"Element deleted along 1 axis:\",arr11)\n",
    "print(arr4)"
   ]
  },
  {
   "cell_type": "code",
   "execution_count": 2,
   "metadata": {},
   "outputs": [],
   "source": [
    "#methods::np.add(arr,arr),np.subtract(arr,arr),np.multiply(arr,arr),np.divide(arr,arr),np.power(x,y),np.median(arr3.axis=0)"
   ]
  },
  {
   "cell_type": "code",
   "execution_count": 3,
   "metadata": {},
   "outputs": [
    {
     "name": "stdout",
     "output_type": "stream",
     "text": [
      "[2 5 8]\n",
      "[12 14 17]\n",
      "[15 20 21]\n"
     ]
    }
   ],
   "source": [
    "#sorting according to \n",
    "arr1=np.array([[12,14,17],[2,5,8],[15,20,21]])\n",
    "arr2=np.mean(arr1,axis=1)\n",
    "arr2=np.sort(arr2)\n",
    "for i in arr2:\n",
    "    for j in arr1:\n",
    "        if np.mean(j)==i:\n",
    "            print(j)"
   ]
  },
  {
   "cell_type": "code",
   "execution_count": 3,
   "metadata": {},
   "outputs": [
    {
     "name": "stdout",
     "output_type": "stream",
     "text": [
      "the series is :\n",
      " 0    1\n",
      "1    2\n",
      "2    3\n",
      "dtype: int64\n",
      "0    1\n",
      "1    2\n",
      "2    3\n",
      "dtype: int32\n"
     ]
    }
   ],
   "source": [
    "import numpy as np\n",
    "import pandas as pd\n",
    "#Series is a single dimensional labelled array, can hold any type\n",
    "ser1=pd.Series([1,2,3])\n",
    "print(\"the series is :\\n\",ser1)\n",
    "arr1=np.array([1,2,3])\n",
    "ser2=pd.Series(arr1)\n",
    "print(ser2)"
   ]
  },
  {
   "cell_type": "code",
   "execution_count": 4,
   "metadata": {},
   "outputs": [
    {
     "name": "stdout",
     "output_type": "stream",
     "text": [
      "the series from ndarray is :\n",
      " a    1\n",
      "b    2\n",
      "c    3\n",
      "dtype: int32\n"
     ]
    }
   ],
   "source": [
    "arr2=np.array([1,2,3])\n",
    "ser3=pd.Series(arr2, index=['a','b','c'])\n",
    "print(\"the series from ndarray is :\\n\",ser3)"
   ]
  },
  {
   "cell_type": "code",
   "execution_count": 5,
   "metadata": {},
   "outputs": [
    {
     "name": "stdout",
     "output_type": "stream",
     "text": [
      "series from dictionary in the same order : a    10\n",
      "b    20\n",
      "c    30\n",
      "dtype: int64\n"
     ]
    }
   ],
   "source": [
    "dict1={'a':10,'b':20,'c':30}\n",
    "ser3=pd.Series(dict1)\n",
    "print(\"series from dictionary in the same order :\",ser3)"
   ]
  },
  {
   "cell_type": "code",
   "execution_count": 6,
   "metadata": {},
   "outputs": [
    {
     "name": "stdout",
     "output_type": "stream",
     "text": [
      "b    20\n",
      "a    10\n",
      "c    30\n",
      "dtype: int64\n"
     ]
    }
   ],
   "source": [
    "dict1={'a':10,'b':20,'c':30}\n",
    "ser4=pd.Series(dict1,index=['b','a','c'])\n",
    "print(ser4)"
   ]
  },
  {
   "cell_type": "code",
   "execution_count": 7,
   "metadata": {},
   "outputs": [
    {
     "name": "stdout",
     "output_type": "stream",
     "text": [
      "the 2nd element is th series is : 1\n",
      "last 3 element of the series : b    1\n",
      "c    2\n",
      "d    3\n",
      "dtype: int32\n",
      "b    1\n",
      "c    2\n",
      "d    3\n",
      "dtype: int32\n"
     ]
    }
   ],
   "source": [
    "arr3=np.arange(0,4)\n",
    "ser7=pd.Series(arr3,index=['a','b','c','d'])\n",
    "print(\"the 2nd element is th series is :\",ser7[1])\n",
    "print(\"last 3 element of the series :\",ser7[-3:])\n",
    "print(ser7[-3:])"
   ]
  },
  {
   "cell_type": "code",
   "execution_count": 8,
   "metadata": {},
   "outputs": [
    {
     "name": "stdout",
     "output_type": "stream",
     "text": [
      "empty df : Empty DataFrame\n",
      "Columns: []\n",
      "Index: []\n"
     ]
    }
   ],
   "source": [
    "df1=pd.DataFrame()\n",
    "print(\"empty df :\",df1)"
   ]
  },
  {
   "cell_type": "code",
   "execution_count": 9,
   "metadata": {},
   "outputs": [
    {
     "name": "stdout",
     "output_type": "stream",
     "text": [
      "   0\n",
      "0  1\n",
      "1  2\n",
      "2  3\n",
      "3  4\n"
     ]
    }
   ],
   "source": [
    "#Create df from single list\n",
    "list1=[1,2,3,4]\n",
    "df2=pd.DataFrame(list1)\n",
    "print(df2)"
   ]
  },
  {
   "cell_type": "code",
   "execution_count": 10,
   "metadata": {},
   "outputs": [
    {
     "name": "stdout",
     "output_type": "stream",
     "text": [
      "   0  1  2\n",
      "0  1  2  3\n",
      "1  4  5  6\n",
      "2  7  8  9\n"
     ]
    }
   ],
   "source": [
    "list2=[[1,2,3],[4,5,6],[7,8,9]]\n",
    "df3=pd.DataFrame(list2)\n",
    "print(df3)"
   ]
  },
  {
   "cell_type": "code",
   "execution_count": 11,
   "metadata": {},
   "outputs": [
    {
     "name": "stdout",
     "output_type": "stream",
     "text": [
      "df from list of lists:\n",
      "   cricketer   runs\n",
      "0    sachin  10000\n",
      "1       msd  20000\n",
      "2     virat   5000\n",
      "<class 'pandas.core.frame.DataFrame'>\n",
      "RangeIndex: 3 entries, 0 to 2\n",
      "Data columns (total 2 columns):\n",
      "cricketer    3 non-null object\n",
      "runs         3 non-null int64\n",
      "dtypes: int64(1), object(1)\n",
      "memory usage: 128.0+ bytes\n"
     ]
    },
    {
     "data": {
      "text/plain": [
       "count       3\n",
       "unique      3\n",
       "top       msd\n",
       "freq        1\n",
       "Name: cricketer, dtype: object"
      ]
     },
     "execution_count": 11,
     "metadata": {},
     "output_type": "execute_result"
    }
   ],
   "source": [
    "#Create df from list of lists with defined column names  \n",
    "list3=[['sachin',10000],['msd',20000],['virat',5000]]\n",
    "df4=pd.DataFrame(list3,columns=['cricketer','runs'])\n",
    "print(\"df from list of lists:\\n\",df4)\n",
    "#df4[\"cricketer\"].describe()\n",
    "#print(df4.dtypes)\n",
    "df4.info()\n",
    "df4[\"runs\"].describe()\n",
    "df4[\"cricketer\"].describe()"
   ]
  },
  {
   "cell_type": "code",
   "execution_count": 12,
   "metadata": {},
   "outputs": [
    {
     "name": "stdout",
     "output_type": "stream",
     "text": [
      "     name   runs\n",
      "0  sachin  10000\n",
      "1  sourav  20000\n",
      "2  sachin  40000\n"
     ]
    }
   ],
   "source": [
    "dict1={\"name\":['sachin','sourav','sachin'],\"runs\":[10000,20000,40000]}\n",
    "df5=pd.DataFrame(dict1)\n",
    "print(df5)"
   ]
  },
  {
   "cell_type": "code",
   "execution_count": 13,
   "metadata": {},
   "outputs": [
    {
     "name": "stdout",
     "output_type": "stream",
     "text": [
      "         name   runs\n",
      "rank1  sachin  10000\n",
      "rank2  sourav  20000\n",
      "rank3  sachin  40000\n"
     ]
    }
   ],
   "source": [
    "dict1={\"name\":['sachin','sourav','sachin'],\"runs\":[10000,20000,40000]}\n",
    "df5=pd.DataFrame(dict1,index=[\"rank1\",\"rank2\",\"rank3\"])\n",
    "print(df5)"
   ]
  },
  {
   "cell_type": "code",
   "execution_count": 14,
   "metadata": {},
   "outputs": [
    {
     "name": "stdout",
     "output_type": "stream",
     "text": [
      "   address    name    run\n",
      "0      NaN  sachin  20000\n",
      "1  kolkata  sachin  20000\n"
     ]
    }
   ],
   "source": [
    "list3=[{\"name\":\"sachin\",\"run\":20000},{\"name\":\"sachin\",\"run\":20000,\"address\":\"kolkata\"}]\n",
    "df6=pd.DataFrame(list3)\n",
    "print(df6)"
   ]
  },
  {
   "cell_type": "code",
   "execution_count": 47,
   "metadata": {},
   "outputs": [
    {
     "name": "stdout",
     "output_type": "stream",
     "text": [
      "df from list of dict :\n",
      "      a    b     c\n",
      "0  1.0  2.0   NaN\n",
      "1  4.0  5.0   NaN\n",
      "2  NaN  NaN  10.0\n",
      "     a   d\n",
      "0  1.0 NaN\n",
      "1  4.0 NaN\n",
      "2  NaN NaN\n"
     ]
    }
   ],
   "source": [
    "list4=[{\"a\":1,\"b\":2},{\"a\":4,\"b\":5},{\"c\":10}]\n",
    "df7=pd.DataFrame(list4)\n",
    "print(\"df from list of dict :\\n\",df7)\n",
    "df8=pd.DataFrame(list4,columns=['a','d'])\n",
    "print(df8)"
   ]
  },
  {
   "cell_type": "code",
   "execution_count": 48,
   "metadata": {},
   "outputs": [
    {
     "name": "stdout",
     "output_type": "stream",
     "text": [
      "df from dict of series    one  two\n",
      "a  1.0    1\n",
      "b  2.0    2\n",
      "c  3.0    3\n",
      "d  NaN    4\n"
     ]
    }
   ],
   "source": [
    "#create df from dict of series\n",
    "data={\"one\":pd.Series([1,2,3],index=['a','b','c']),\"two\":pd.Series([1,2,3,4],index=['a','b','c','d'])}\n",
    "df8=pd.DataFrame(data)\n",
    "print(\"df from dict of series\",df8)\n"
   ]
  },
  {
   "cell_type": "code",
   "execution_count": 49,
   "metadata": {},
   "outputs": [
    {
     "name": "stdout",
     "output_type": "stream",
     "text": [
      "df from dict of series \n",
      "    one  two\n",
      "a  1.0    1\n",
      "b  2.0    2\n",
      "c  3.0    3\n",
      "d  NaN    4\n",
      "df8 after adding \n",
      "    one  two  three\n",
      "a  1.0    1   10.0\n",
      "b  2.0    2   11.0\n",
      "c  3.0    3   12.0\n",
      "d  NaN    4    NaN\n",
      "df after adding column: \n",
      "    one  two  three  four\n",
      "a  1.0    1   10.0  11.0\n",
      "b  2.0    2   11.0  13.0\n",
      "c  3.0    3   12.0  15.0\n",
      "d  NaN    4    NaN   NaN\n"
     ]
    }
   ],
   "source": [
    "#select\n",
    "data={\"one\":pd.Series([1,2,3],index=['a','b','c']),\"two\":pd.Series([1,2,3,4],index=['a','b','c','d'])}\n",
    "df8=pd.DataFrame(data)\n",
    "print(\"df from dict of series \\n\",df8)\n",
    "df8[\"three\"]=pd.Series([10,11,12],index=['a','b','c'])\n",
    "print(\"df8 after adding \\n\",df8)\n",
    "#add new cols with existing cols\n",
    "df8[\"four\"]=df8[\"one\"]+df8[\"three\"]\n",
    "print(\"df after adding column: \\n\",df8)"
   ]
  },
  {
   "cell_type": "code",
   "execution_count": 50,
   "metadata": {},
   "outputs": [
    {
     "name": "stdout",
     "output_type": "stream",
     "text": [
      "   One  Two  three  four\n",
      "a  1.0    1   10.0  11.0\n",
      "b  2.0    2   11.0  13.0\n",
      "c  3.0    3   12.0  15.0\n",
      "d  NaN    4    NaN   NaN\n"
     ]
    }
   ],
   "source": [
    "#renaming the column index\n",
    "df8.rename(columns={'one':'One','two':'Two'},inplace=True)\n",
    "print(df8)"
   ]
  },
  {
   "cell_type": "code",
   "execution_count": 51,
   "metadata": {},
   "outputs": [
    {
     "name": "stdout",
     "output_type": "stream",
     "text": [
      "Deleting the third column: \n",
      "\n",
      "   One  Two  four\n",
      "a  1.0    1  11.0\n",
      "b  2.0    2  13.0\n",
      "c  3.0    3  15.0\n",
      "d  NaN    4   NaN\n"
     ]
    }
   ],
   "source": [
    "#Delete column\n",
    "print(\"Deleting the third column: \\n\")\n",
    "del df8[\"three\"]\n",
    "print(df8)"
   ]
  },
  {
   "cell_type": "code",
   "execution_count": 52,
   "metadata": {},
   "outputs": [],
   "source": [
    "#.loc[] is used for labes(a,b......) and #.iloc is used for indexes(0,1,2,3,......)"
   ]
  },
  {
   "cell_type": "code",
   "execution_count": 53,
   "metadata": {},
   "outputs": [
    {
     "name": "stdout",
     "output_type": "stream",
     "text": [
      "   One  Two  four\n",
      "b  2.0    2  13.0\n",
      "c  3.0    3  15.0\n"
     ]
    }
   ],
   "source": [
    "#Row Selection\n",
    "print(df8.loc[\"b\":\"c\"])"
   ]
  },
  {
   "cell_type": "code",
   "execution_count": 54,
   "metadata": {},
   "outputs": [
    {
     "name": "stdout",
     "output_type": "stream",
     "text": [
      "   One  Two  four\n",
      "a  1.0    1  11.0\n",
      "b  2.0    2  13.0\n",
      "c  3.0    3  15.0\n",
      "   Two  four\n",
      "b    2  13.0\n",
      "c    3  15.0\n",
      "d    4   NaN\n",
      "   One  Two\n",
      "b  2.0    2\n",
      "c  3.0    3\n",
      "   Two  four\n",
      "a    1  11.0\n",
      "b    2  13.0\n",
      "c    3  15.0\n",
      "   One  Two  four\n",
      "a  1.0    1  11.0\n",
      "b  2.0    2  13.0\n",
      "c  3.0    3  15.0\n",
      "   One  four\n",
      "a  1.0  11.0\n",
      "b  2.0  13.0\n",
      "   One  four\n",
      "a  1.0  11.0\n",
      "b  2.0  13.0\n",
      "c  3.0  15.0\n"
     ]
    }
   ],
   "source": [
    "#Index Based\n",
    "#Select only Rows\n",
    "print(df8.iloc[0:3])\n",
    "#Select rows and columns \n",
    "print(df8.iloc[[1,2,3],[1,2]])\n",
    "#Slicing operator\n",
    "print(df8.iloc[1:3,0:2])\n",
    "print(df8.iloc[0:3,[1,2]])\n",
    "#lable based\n",
    "print(df8.loc['a':'c','One':'four'])\n",
    "print(df8.loc[['a','b'],['One','four']])\n",
    "print(df8.loc['a':'c',['One','four']])"
   ]
  },
  {
   "cell_type": "code",
   "execution_count": 55,
   "metadata": {},
   "outputs": [
    {
     "name": "stdout",
     "output_type": "stream",
     "text": [
      "After appending 2 rows row: \n",
      "     One  Two  four\n",
      "a   1.0    1  11.0\n",
      "b   2.0    2  13.0\n",
      "c   3.0    3  15.0\n",
      "d   NaN    4   NaN\n",
      "0  99.0   98  97.0\n",
      "1  78.0   76  91.0\n"
     ]
    }
   ],
   "source": [
    "#Append row\n",
    "tempdf=pd.DataFrame([[99,98,97],[78,76,91]],columns=[\"One\",\"Two\",\"four\"])\n",
    "df8=df8.append(tempdf)\n",
    "#df8.append(tempdf,inplace=True)\n",
    "print(\"After appending 2 rows row: \\n\",df8)"
   ]
  },
  {
   "cell_type": "code",
   "execution_count": 56,
   "metadata": {},
   "outputs": [
    {
     "name": "stdout",
     "output_type": "stream",
     "text": [
      "One     99.0\n",
      "Two     98.0\n",
      "four    97.0\n",
      "Name: 0, dtype: float64\n"
     ]
    }
   ],
   "source": [
    "print(df8.loc[0])"
   ]
  },
  {
   "cell_type": "code",
   "execution_count": 57,
   "metadata": {},
   "outputs": [
    {
     "name": "stdout",
     "output_type": "stream",
     "text": [
      "One      1.0\n",
      "Two      1.0\n",
      "four    11.0\n",
      "Name: a, dtype: float64\n"
     ]
    }
   ],
   "source": [
    "print(df8.iloc[0])"
   ]
  },
  {
   "cell_type": "code",
   "execution_count": 58,
   "metadata": {},
   "outputs": [
    {
     "name": "stdout",
     "output_type": "stream",
     "text": [
      "After deleting 1st row: \n",
      "     One  Two  four\n",
      "c   3.0    3  15.0\n",
      "d   NaN    4   NaN\n",
      "0  99.0   98  97.0\n",
      "1  78.0   76  91.0\n"
     ]
    }
   ],
   "source": [
    "#Deletion of row\n",
    "df8=df8.drop(\"a\")\n",
    "df8=df8.drop(df8.index[0])\n",
    "print(\"After deleting 1st row: \\n\",df8)"
   ]
  },
  {
   "cell_type": "code",
   "execution_count": 61,
   "metadata": {},
   "outputs": [
    {
     "name": "stdout",
     "output_type": "stream",
     "text": [
      "The length of the dataframe is : 12\n",
      "The top 2 rows are :\n",
      "     One  Two  four\n",
      "c   3.0    3  15.0\n",
      "d   NaN    4   NaN\n",
      "0  99.0   98  97.0\n",
      "1  78.0   76  91.0\n",
      "The bottom 2 rows are :\n",
      "     One  Two  four\n",
      "0  99.0   98  97.0\n",
      "1  78.0   76  91.0\n"
     ]
    }
   ],
   "source": [
    "#size\n",
    "print(\"The length of the dataframe is :\",df8.size)\n",
    "#top rows\n",
    "print(\"The top 2 rows are :\\n\",df8.head(5))\n",
    "\n",
    "#bottom 2 rows\n",
    "print(\"The bottom 2 rows are :\\n\",df8.tail(2))"
   ]
  },
  {
   "cell_type": "code",
   "execution_count": 67,
   "metadata": {},
   "outputs": [
    {
     "name": "stdout",
     "output_type": "stream",
     "text": [
      "    subho   bhaduri\n",
      "0  rcciit       NaN\n",
      "1    ravi       NaN\n"
     ]
    }
   ],
   "source": [
    "#Data manipulation in dataframe\n",
    "emp=pd.read_csv(\"Employee.csv\")\n",
    "empdf=pd.DataFrame(emp)\n",
    "print(empdf)"
   ]
  },
  {
   "cell_type": "code",
   "execution_count": 68,
   "metadata": {},
   "outputs": [
    {
     "ename": "KeyError",
     "evalue": "\"None of [Index(['ename', 'job', 'mgr'], dtype='object')] are in the [columns]\"",
     "output_type": "error",
     "traceback": [
      "\u001b[1;31m---------------------------------------------------------------------------\u001b[0m",
      "\u001b[1;31mKeyError\u001b[0m                                  Traceback (most recent call last)",
      "\u001b[1;32m<ipython-input-68-5151d4e41f65>\u001b[0m in \u001b[0;36m<module>\u001b[1;34m\u001b[0m\n\u001b[1;32m----> 1\u001b[1;33m \u001b[0mx\u001b[0m\u001b[1;33m=\u001b[0m\u001b[0mempdf\u001b[0m\u001b[1;33m[\u001b[0m\u001b[1;33m[\u001b[0m\u001b[1;34m'ename'\u001b[0m\u001b[1;33m,\u001b[0m\u001b[1;34m'job'\u001b[0m\u001b[1;33m,\u001b[0m\u001b[1;34m'mgr'\u001b[0m\u001b[1;33m]\u001b[0m\u001b[1;33m]\u001b[0m\u001b[1;33m\u001b[0m\u001b[1;33m\u001b[0m\u001b[0m\n\u001b[0m\u001b[0;32m      2\u001b[0m \u001b[0mprint\u001b[0m\u001b[1;33m(\u001b[0m\u001b[0mx\u001b[0m\u001b[1;33m)\u001b[0m\u001b[1;33m\u001b[0m\u001b[1;33m\u001b[0m\u001b[0m\n",
      "\u001b[1;32mC:\\ProgramData\\Anaconda3\\lib\\site-packages\\pandas\\core\\frame.py\u001b[0m in \u001b[0;36m__getitem__\u001b[1;34m(self, key)\u001b[0m\n\u001b[0;32m   2932\u001b[0m                 \u001b[0mkey\u001b[0m \u001b[1;33m=\u001b[0m \u001b[0mlist\u001b[0m\u001b[1;33m(\u001b[0m\u001b[0mkey\u001b[0m\u001b[1;33m)\u001b[0m\u001b[1;33m\u001b[0m\u001b[1;33m\u001b[0m\u001b[0m\n\u001b[0;32m   2933\u001b[0m             indexer = self.loc._convert_to_indexer(key, axis=1,\n\u001b[1;32m-> 2934\u001b[1;33m                                                    raise_missing=True)\n\u001b[0m\u001b[0;32m   2935\u001b[0m \u001b[1;33m\u001b[0m\u001b[0m\n\u001b[0;32m   2936\u001b[0m         \u001b[1;31m# take() does not accept boolean indexers\u001b[0m\u001b[1;33m\u001b[0m\u001b[1;33m\u001b[0m\u001b[1;33m\u001b[0m\u001b[0m\n",
      "\u001b[1;32mC:\\ProgramData\\Anaconda3\\lib\\site-packages\\pandas\\core\\indexing.py\u001b[0m in \u001b[0;36m_convert_to_indexer\u001b[1;34m(self, obj, axis, is_setter, raise_missing)\u001b[0m\n\u001b[0;32m   1352\u001b[0m                 kwargs = {'raise_missing': True if is_setter else\n\u001b[0;32m   1353\u001b[0m                           raise_missing}\n\u001b[1;32m-> 1354\u001b[1;33m                 \u001b[1;32mreturn\u001b[0m \u001b[0mself\u001b[0m\u001b[1;33m.\u001b[0m\u001b[0m_get_listlike_indexer\u001b[0m\u001b[1;33m(\u001b[0m\u001b[0mobj\u001b[0m\u001b[1;33m,\u001b[0m \u001b[0maxis\u001b[0m\u001b[1;33m,\u001b[0m \u001b[1;33m**\u001b[0m\u001b[0mkwargs\u001b[0m\u001b[1;33m)\u001b[0m\u001b[1;33m[\u001b[0m\u001b[1;36m1\u001b[0m\u001b[1;33m]\u001b[0m\u001b[1;33m\u001b[0m\u001b[1;33m\u001b[0m\u001b[0m\n\u001b[0m\u001b[0;32m   1355\u001b[0m         \u001b[1;32melse\u001b[0m\u001b[1;33m:\u001b[0m\u001b[1;33m\u001b[0m\u001b[1;33m\u001b[0m\u001b[0m\n\u001b[0;32m   1356\u001b[0m             \u001b[1;32mtry\u001b[0m\u001b[1;33m:\u001b[0m\u001b[1;33m\u001b[0m\u001b[1;33m\u001b[0m\u001b[0m\n",
      "\u001b[1;32mC:\\ProgramData\\Anaconda3\\lib\\site-packages\\pandas\\core\\indexing.py\u001b[0m in \u001b[0;36m_get_listlike_indexer\u001b[1;34m(self, key, axis, raise_missing)\u001b[0m\n\u001b[0;32m   1159\u001b[0m         self._validate_read_indexer(keyarr, indexer,\n\u001b[0;32m   1160\u001b[0m                                     \u001b[0mo\u001b[0m\u001b[1;33m.\u001b[0m\u001b[0m_get_axis_number\u001b[0m\u001b[1;33m(\u001b[0m\u001b[0maxis\u001b[0m\u001b[1;33m)\u001b[0m\u001b[1;33m,\u001b[0m\u001b[1;33m\u001b[0m\u001b[1;33m\u001b[0m\u001b[0m\n\u001b[1;32m-> 1161\u001b[1;33m                                     raise_missing=raise_missing)\n\u001b[0m\u001b[0;32m   1162\u001b[0m         \u001b[1;32mreturn\u001b[0m \u001b[0mkeyarr\u001b[0m\u001b[1;33m,\u001b[0m \u001b[0mindexer\u001b[0m\u001b[1;33m\u001b[0m\u001b[1;33m\u001b[0m\u001b[0m\n\u001b[0;32m   1163\u001b[0m \u001b[1;33m\u001b[0m\u001b[0m\n",
      "\u001b[1;32mC:\\ProgramData\\Anaconda3\\lib\\site-packages\\pandas\\core\\indexing.py\u001b[0m in \u001b[0;36m_validate_read_indexer\u001b[1;34m(self, key, indexer, axis, raise_missing)\u001b[0m\n\u001b[0;32m   1244\u001b[0m                 raise KeyError(\n\u001b[0;32m   1245\u001b[0m                     u\"None of [{key}] are in the [{axis}]\".format(\n\u001b[1;32m-> 1246\u001b[1;33m                         key=key, axis=self.obj._get_axis_name(axis)))\n\u001b[0m\u001b[0;32m   1247\u001b[0m \u001b[1;33m\u001b[0m\u001b[0m\n\u001b[0;32m   1248\u001b[0m             \u001b[1;31m# We (temporarily) allow for some missing keys with .loc, except in\u001b[0m\u001b[1;33m\u001b[0m\u001b[1;33m\u001b[0m\u001b[1;33m\u001b[0m\u001b[0m\n",
      "\u001b[1;31mKeyError\u001b[0m: \"None of [Index(['ename', 'job', 'mgr'], dtype='object')] are in the [columns]\""
     ]
    }
   ],
   "source": [
    "x=empdf[['ename','job','mgr']]\n",
    "print(x)\n",
    "#1\n",
    "tempdf=empdf.loc[empdf[\"deptno\"]==30]\n",
    "print(tempdf)"
   ]
  },
  {
   "cell_type": "code",
   "execution_count": null,
   "metadata": {},
   "outputs": [],
   "source": [
    "#2\n",
    "tempdf1=empdf.loc[(empdf[\"sal\"]>800) & (empdf[\"deptno\"]==30)]\n",
    "print(tempdf1[[\"ename\",\"sal\",\"deptno\"]])"
   ]
  }
 ],
 "metadata": {
  "kernelspec": {
   "display_name": "Python 3",
   "language": "python",
   "name": "python3"
  },
  "language_info": {
   "codemirror_mode": {
    "name": "ipython",
    "version": 3
   },
   "file_extension": ".py",
   "mimetype": "text/x-python",
   "name": "python",
   "nbconvert_exporter": "python",
   "pygments_lexer": "ipython3",
   "version": "3.7.3"
  }
 },
 "nbformat": 4,
 "nbformat_minor": 2
}
